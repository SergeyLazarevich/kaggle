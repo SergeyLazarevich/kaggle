{
 "cells": [
  {
   "cell_type": "markdown",
   "metadata": {},
   "source": [
    "# Описание соревнований.\n",
    "\n",
    "## <a href='https://www.kaggle.com/c/house-prices-advanced-regression-techniques/overview/description'>House Prices - Advanced Regression Techniques</a>"
   ]
  },
  {
   "cell_type": "code",
   "execution_count": 1,
   "metadata": {},
   "outputs": [],
   "source": [
    "import matplotlib\n",
    "import matplotlib.pyplot as plt\n",
    "import seaborn as sns\n",
    "import numpy as np \n",
    "import pandas as pd\n",
    "from scipy import stats\n",
    "\n",
    "import warnings\n",
    "warnings.filterwarnings('ignore')\n",
    "\n",
    "plt.style.use('fivethirtyeight')\n",
    "matplotlib.rcParams.update({'font.size': 14})\n",
    "TRAIN_PATH = './house-prices-advanced-regression-techniques/train.csv'\n",
    "TEST_PATH = './house-prices-advanced-regression-techniques/test.csv'\n",
    "SUBMIT_PATH = './house-prices-advanced-regression-techniques/sample_submission.csv'"
   ]
  },
  {
   "cell_type": "markdown",
   "metadata": {},
   "source": [
    "## 2. Загрузка данных в Data Frame\n",
    "#### Описание файлов\n",
    "- train.csv - тренировочные данные\n",
    "- test.csv - тестовые данные\n",
    "- sampleSubmission.csv - образец файла для отправки в правильном формате\n",
    "#### Описание признаков данных\n",
    "- Id: identification number\n",
    "- MSSubClass: Identifies the type of dwelling involved in the sale.\t\n",
    "- MSZoning: Identifies the general zoning classification of the sale.\n",
    "- LotFrontage: Linear feet of street connected to property\n",
    "- LotArea: Lot size in square feet\n",
    "- Street: Type of road access to property\n",
    "- Alley: Type of alley access to property\n",
    "- LotShape: General shape of property\n",
    "- LandContour: Flatness of the property\n",
    "- Utilities: Type of utilities available\n",
    "- LotConfig: Lot configuration\n",
    "- LandSlope: Slope of property\n",
    "- Neighborhood: Physical locations within Ames city limits\n",
    "- Condition1: Proximity to various conditions\n",
    "- Condition2: Proximity to various conditions (if more than one is present)\n",
    "- BldgType: Type of dwelling\n",
    "- HouseStyle: Style of dwelling\n",
    "- OverallQual: Rates the overall material and finish of the house\n",
    "- OverallCond: Rates the overall condition of the house\n",
    "- YearBuilt: Original construction date\n",
    "- YearRemodAdd: Remodel date (same as construction date if no remodeling or additions)\n",
    "- RoofStyle: Type of roof\n",
    "- RoofMatl: Roof material\n",
    "- Exterior1st: Exterior covering on house\n",
    "- Exterior2nd: Exterior covering on house (if more than one material)\n",
    "- MasVnrType: Masonry veneer type\n",
    "- MasVnrArea: Masonry veneer area in square feet\n",
    "- ExterQual: Evaluates the quality of the material on the exterior \n",
    "- ExterCond: Evaluates the present condition of the material on the exterior\n",
    "- Foundation: Type of foundation\n",
    "- BsmtQual: Evaluates the height of the basement\n",
    "- BsmtCond: Evaluates the general condition of the basement\n",
    "- BsmtExposure: Refers to walkout or garden level walls\n",
    "- BsmtFinType1: Rating of basement finished area\n",
    "- BsmtFinSF1: Type 1 finished square feet\n",
    "- BsmtFinType2: Rating of basement finished area (if multiple types)\n",
    "- BsmtFinSF2: Type 2 finished square feet\n",
    "- BsmtUnfSF: Unfinished square feet of basement area\n",
    "- TotalBsmtSF: Total square feet of basement area\n",
    "- Heating: Type of heating\n",
    "- HeatingQC: Heating quality and condition\n",
    "- CentralAir: Central air conditioning\n",
    "- Electrical: Electrical system\n",
    "- 1stFlrSF: First Floor square feet\n",
    " - 2ndFlrSF: Second floor square feet\n",
    "- LowQualFinSF: Low quality finished square feet (all floors)\n",
    "- GrLivArea: Above grade (ground) living area square feet\n",
    "- BsmtFullBath: Basement full bathrooms\n",
    "- BsmtHalfBath: Basement half bathrooms\n",
    "- FullBath: Full bathrooms above grade\n",
    "- HalfBath: Half baths above grade\n",
    "- Bedroom: Bedrooms above grade (does NOT include basement bedrooms)\n",
    "- Kitchen: Kitchens above grade\n",
    "- KitchenQual: Kitchen quality\n",
    "- TotRmsAbvGrd: Total rooms above grade (does not include bathrooms)\n",
    "- Functional: Home functionality (Assume typical unless deductions are warranted)\n",
    "- Fireplaces: Number of fireplaces\n",
    "- FireplaceQu: Fireplace quality\n",
    "- GarageType: Garage location\n",
    "- GarageYrBlt: Year garage was built\n",
    "- GarageFinish: Interior finish of the garage\n",
    "- GarageCars: Size of garage in car capacity\n",
    "- GarageArea: Size of garage in square feet\n",
    "- GarageQual: Garage quality\n",
    "- GarageCond: Garage condition\n",
    "- PavedDrive: Paved driveway\n",
    "- WoodDeckSF: Wood deck area in square feet\n",
    "- OpenPorchSF: Open porch area in square feet\n",
    "- EnclosedPorch: Enclosed porch area in square feet\n",
    "- 3SsnPorch: Three season porch area in square feet\n",
    "- ScreenPorch: Screen porch area in square feet\n",
    "- PoolArea: Pool area in square feet\n",
    "- PoolQC: Pool quality\n",
    "- Fence: Fence quality\n",
    "- MiscFeature: Miscellaneous feature not covered in other categories\n",
    "- MiscVal: $Value of miscellaneous feature\n",
    "- MoSold: Month Sold (MM)\n",
    "- YrSold: Year Sold (YYYY)\n",
    "- SaleType: Type of sale\n",
    "- SaleCondition: Condition of sale"
   ]
  },
  {
   "cell_type": "code",
   "execution_count": 2,
   "metadata": {},
   "outputs": [
    {
     "name": "stdout",
     "output_type": "stream",
     "text": [
      "<class 'pandas.core.frame.DataFrame'>\n",
      "RangeIndex: 1460 entries, 0 to 1459\n",
      "Data columns (total 81 columns):\n",
      " #   Column         Non-Null Count  Dtype  \n",
      "---  ------         --------------  -----  \n",
      " 0   Id             1460 non-null   int64  \n",
      " 1   MSSubClass     1460 non-null   int64  \n",
      " 2   MSZoning       1460 non-null   object \n",
      " 3   LotFrontage    1201 non-null   float64\n",
      " 4   LotArea        1460 non-null   int64  \n",
      " 5   Street         1460 non-null   object \n",
      " 6   Alley          91 non-null     object \n",
      " 7   LotShape       1460 non-null   object \n",
      " 8   LandContour    1460 non-null   object \n",
      " 9   Utilities      1460 non-null   object \n",
      " 10  LotConfig      1460 non-null   object \n",
      " 11  LandSlope      1460 non-null   object \n",
      " 12  Neighborhood   1460 non-null   object \n",
      " 13  Condition1     1460 non-null   object \n",
      " 14  Condition2     1460 non-null   object \n",
      " 15  BldgType       1460 non-null   object \n",
      " 16  HouseStyle     1460 non-null   object \n",
      " 17  OverallQual    1460 non-null   int64  \n",
      " 18  OverallCond    1460 non-null   int64  \n",
      " 19  YearBuilt      1460 non-null   int64  \n",
      " 20  YearRemodAdd   1460 non-null   int64  \n",
      " 21  RoofStyle      1460 non-null   object \n",
      " 22  RoofMatl       1460 non-null   object \n",
      " 23  Exterior1st    1460 non-null   object \n",
      " 24  Exterior2nd    1460 non-null   object \n",
      " 25  MasVnrType     1452 non-null   object \n",
      " 26  MasVnrArea     1452 non-null   float64\n",
      " 27  ExterQual      1460 non-null   object \n",
      " 28  ExterCond      1460 non-null   object \n",
      " 29  Foundation     1460 non-null   object \n",
      " 30  BsmtQual       1423 non-null   object \n",
      " 31  BsmtCond       1423 non-null   object \n",
      " 32  BsmtExposure   1422 non-null   object \n",
      " 33  BsmtFinType1   1423 non-null   object \n",
      " 34  BsmtFinSF1     1460 non-null   int64  \n",
      " 35  BsmtFinType2   1422 non-null   object \n",
      " 36  BsmtFinSF2     1460 non-null   int64  \n",
      " 37  BsmtUnfSF      1460 non-null   int64  \n",
      " 38  TotalBsmtSF    1460 non-null   int64  \n",
      " 39  Heating        1460 non-null   object \n",
      " 40  HeatingQC      1460 non-null   object \n",
      " 41  CentralAir     1460 non-null   object \n",
      " 42  Electrical     1459 non-null   object \n",
      " 43  1stFlrSF       1460 non-null   int64  \n",
      " 44  2ndFlrSF       1460 non-null   int64  \n",
      " 45  LowQualFinSF   1460 non-null   int64  \n",
      " 46  GrLivArea      1460 non-null   int64  \n",
      " 47  BsmtFullBath   1460 non-null   int64  \n",
      " 48  BsmtHalfBath   1460 non-null   int64  \n",
      " 49  FullBath       1460 non-null   int64  \n",
      " 50  HalfBath       1460 non-null   int64  \n",
      " 51  BedroomAbvGr   1460 non-null   int64  \n",
      " 52  KitchenAbvGr   1460 non-null   int64  \n",
      " 53  KitchenQual    1460 non-null   object \n",
      " 54  TotRmsAbvGrd   1460 non-null   int64  \n",
      " 55  Functional     1460 non-null   object \n",
      " 56  Fireplaces     1460 non-null   int64  \n",
      " 57  FireplaceQu    770 non-null    object \n",
      " 58  GarageType     1379 non-null   object \n",
      " 59  GarageYrBlt    1379 non-null   float64\n",
      " 60  GarageFinish   1379 non-null   object \n",
      " 61  GarageCars     1460 non-null   int64  \n",
      " 62  GarageArea     1460 non-null   int64  \n",
      " 63  GarageQual     1379 non-null   object \n",
      " 64  GarageCond     1379 non-null   object \n",
      " 65  PavedDrive     1460 non-null   object \n",
      " 66  WoodDeckSF     1460 non-null   int64  \n",
      " 67  OpenPorchSF    1460 non-null   int64  \n",
      " 68  EnclosedPorch  1460 non-null   int64  \n",
      " 69  3SsnPorch      1460 non-null   int64  \n",
      " 70  ScreenPorch    1460 non-null   int64  \n",
      " 71  PoolArea       1460 non-null   int64  \n",
      " 72  PoolQC         7 non-null      object \n",
      " 73  Fence          281 non-null    object \n",
      " 74  MiscFeature    54 non-null     object \n",
      " 75  MiscVal        1460 non-null   int64  \n",
      " 76  MoSold         1460 non-null   int64  \n",
      " 77  YrSold         1460 non-null   int64  \n",
      " 78  SaleType       1460 non-null   object \n",
      " 79  SaleCondition  1460 non-null   object \n",
      " 80  SalePrice      1460 non-null   int64  \n",
      "dtypes: float64(3), int64(35), object(43)\n",
      "memory usage: 924.0+ KB\n"
     ]
    }
   ],
   "source": [
    "# Импортируем данные train.csv в pandas Dataframe\n",
    "df_train = pd.read_csv(TRAIN_PATH, sep=',')\n",
    "df_train.info()"
   ]
  },
  {
   "cell_type": "markdown",
   "metadata": {},
   "source": [
    "## Рассмотрим поближе каждую характеристику \n"
   ]
  },
  {
   "cell_type": "code",
   "execution_count": 3,
   "metadata": {},
   "outputs": [
    {
     "data": {
      "text/html": [
       "<div>\n",
       "<style scoped>\n",
       "    .dataframe tbody tr th:only-of-type {\n",
       "        vertical-align: middle;\n",
       "    }\n",
       "\n",
       "    .dataframe tbody tr th {\n",
       "        vertical-align: top;\n",
       "    }\n",
       "\n",
       "    .dataframe thead th {\n",
       "        text-align: right;\n",
       "    }\n",
       "</style>\n",
       "<table border=\"1\" class=\"dataframe\">\n",
       "  <thead>\n",
       "    <tr style=\"text-align: right;\">\n",
       "      <th></th>\n",
       "      <th>Id</th>\n",
       "      <th>MSSubClass</th>\n",
       "      <th>MSZoning</th>\n",
       "      <th>LotFrontage</th>\n",
       "      <th>LotArea</th>\n",
       "      <th>Street</th>\n",
       "      <th>Alley</th>\n",
       "      <th>LotShape</th>\n",
       "      <th>LandContour</th>\n",
       "      <th>Utilities</th>\n",
       "      <th>...</th>\n",
       "      <th>PoolArea</th>\n",
       "      <th>PoolQC</th>\n",
       "      <th>Fence</th>\n",
       "      <th>MiscFeature</th>\n",
       "      <th>MiscVal</th>\n",
       "      <th>MoSold</th>\n",
       "      <th>YrSold</th>\n",
       "      <th>SaleType</th>\n",
       "      <th>SaleCondition</th>\n",
       "      <th>SalePrice</th>\n",
       "    </tr>\n",
       "  </thead>\n",
       "  <tbody>\n",
       "    <tr>\n",
       "      <th>0</th>\n",
       "      <td>1</td>\n",
       "      <td>60</td>\n",
       "      <td>RL</td>\n",
       "      <td>65.0</td>\n",
       "      <td>8450</td>\n",
       "      <td>Pave</td>\n",
       "      <td>NaN</td>\n",
       "      <td>Reg</td>\n",
       "      <td>Lvl</td>\n",
       "      <td>AllPub</td>\n",
       "      <td>...</td>\n",
       "      <td>0</td>\n",
       "      <td>NaN</td>\n",
       "      <td>NaN</td>\n",
       "      <td>NaN</td>\n",
       "      <td>0</td>\n",
       "      <td>2</td>\n",
       "      <td>2008</td>\n",
       "      <td>WD</td>\n",
       "      <td>Normal</td>\n",
       "      <td>208500</td>\n",
       "    </tr>\n",
       "    <tr>\n",
       "      <th>1</th>\n",
       "      <td>2</td>\n",
       "      <td>20</td>\n",
       "      <td>RL</td>\n",
       "      <td>80.0</td>\n",
       "      <td>9600</td>\n",
       "      <td>Pave</td>\n",
       "      <td>NaN</td>\n",
       "      <td>Reg</td>\n",
       "      <td>Lvl</td>\n",
       "      <td>AllPub</td>\n",
       "      <td>...</td>\n",
       "      <td>0</td>\n",
       "      <td>NaN</td>\n",
       "      <td>NaN</td>\n",
       "      <td>NaN</td>\n",
       "      <td>0</td>\n",
       "      <td>5</td>\n",
       "      <td>2007</td>\n",
       "      <td>WD</td>\n",
       "      <td>Normal</td>\n",
       "      <td>181500</td>\n",
       "    </tr>\n",
       "    <tr>\n",
       "      <th>2</th>\n",
       "      <td>3</td>\n",
       "      <td>60</td>\n",
       "      <td>RL</td>\n",
       "      <td>68.0</td>\n",
       "      <td>11250</td>\n",
       "      <td>Pave</td>\n",
       "      <td>NaN</td>\n",
       "      <td>IR1</td>\n",
       "      <td>Lvl</td>\n",
       "      <td>AllPub</td>\n",
       "      <td>...</td>\n",
       "      <td>0</td>\n",
       "      <td>NaN</td>\n",
       "      <td>NaN</td>\n",
       "      <td>NaN</td>\n",
       "      <td>0</td>\n",
       "      <td>9</td>\n",
       "      <td>2008</td>\n",
       "      <td>WD</td>\n",
       "      <td>Normal</td>\n",
       "      <td>223500</td>\n",
       "    </tr>\n",
       "    <tr>\n",
       "      <th>3</th>\n",
       "      <td>4</td>\n",
       "      <td>70</td>\n",
       "      <td>RL</td>\n",
       "      <td>60.0</td>\n",
       "      <td>9550</td>\n",
       "      <td>Pave</td>\n",
       "      <td>NaN</td>\n",
       "      <td>IR1</td>\n",
       "      <td>Lvl</td>\n",
       "      <td>AllPub</td>\n",
       "      <td>...</td>\n",
       "      <td>0</td>\n",
       "      <td>NaN</td>\n",
       "      <td>NaN</td>\n",
       "      <td>NaN</td>\n",
       "      <td>0</td>\n",
       "      <td>2</td>\n",
       "      <td>2006</td>\n",
       "      <td>WD</td>\n",
       "      <td>Abnorml</td>\n",
       "      <td>140000</td>\n",
       "    </tr>\n",
       "    <tr>\n",
       "      <th>4</th>\n",
       "      <td>5</td>\n",
       "      <td>60</td>\n",
       "      <td>RL</td>\n",
       "      <td>84.0</td>\n",
       "      <td>14260</td>\n",
       "      <td>Pave</td>\n",
       "      <td>NaN</td>\n",
       "      <td>IR1</td>\n",
       "      <td>Lvl</td>\n",
       "      <td>AllPub</td>\n",
       "      <td>...</td>\n",
       "      <td>0</td>\n",
       "      <td>NaN</td>\n",
       "      <td>NaN</td>\n",
       "      <td>NaN</td>\n",
       "      <td>0</td>\n",
       "      <td>12</td>\n",
       "      <td>2008</td>\n",
       "      <td>WD</td>\n",
       "      <td>Normal</td>\n",
       "      <td>250000</td>\n",
       "    </tr>\n",
       "  </tbody>\n",
       "</table>\n",
       "<p>5 rows × 81 columns</p>\n",
       "</div>"
      ],
      "text/plain": [
       "   Id  MSSubClass MSZoning  LotFrontage  LotArea Street Alley LotShape  \\\n",
       "0   1          60       RL         65.0     8450   Pave   NaN      Reg   \n",
       "1   2          20       RL         80.0     9600   Pave   NaN      Reg   \n",
       "2   3          60       RL         68.0    11250   Pave   NaN      IR1   \n",
       "3   4          70       RL         60.0     9550   Pave   NaN      IR1   \n",
       "4   5          60       RL         84.0    14260   Pave   NaN      IR1   \n",
       "\n",
       "  LandContour Utilities  ... PoolArea PoolQC Fence MiscFeature MiscVal MoSold  \\\n",
       "0         Lvl    AllPub  ...        0    NaN   NaN         NaN       0      2   \n",
       "1         Lvl    AllPub  ...        0    NaN   NaN         NaN       0      5   \n",
       "2         Lvl    AllPub  ...        0    NaN   NaN         NaN       0      9   \n",
       "3         Lvl    AllPub  ...        0    NaN   NaN         NaN       0      2   \n",
       "4         Lvl    AllPub  ...        0    NaN   NaN         NaN       0     12   \n",
       "\n",
       "  YrSold  SaleType  SaleCondition  SalePrice  \n",
       "0   2008        WD         Normal     208500  \n",
       "1   2007        WD         Normal     181500  \n",
       "2   2008        WD         Normal     223500  \n",
       "3   2006        WD        Abnorml     140000  \n",
       "4   2008        WD         Normal     250000  \n",
       "\n",
       "[5 rows x 81 columns]"
      ]
     },
     "execution_count": 3,
     "metadata": {},
     "output_type": "execute_result"
    }
   ],
   "source": [
    "df_train.head()"
   ]
  },
  {
   "cell_type": "markdown",
   "metadata": {},
   "source": [
    "## Рассмотрим поближе каждую характеристику \n"
   ]
  },
  {
   "cell_type": "code",
   "execution_count": 4,
   "metadata": {},
   "outputs": [
    {
     "data": {
      "image/png": "[encoded data removed]",
      "text/plain": [
       "<Figure size 576x144 with 1 Axes>"
      ]
     },
     "metadata": {},
     "output_type": "display_data"
    },
    {
     "name": "stdout",
     "output_type": "stream",
     "text": [
      "\n",
      "Количество пропущенных элементов 0\n",
      "20     536\n",
      "60     299\n",
      "50     144\n",
      "120     87\n",
      "30      69\n",
      "160     63\n",
      "70      60\n",
      "80      58\n",
      "90      52\n",
      "190     30\n",
      "85      20\n",
      "75      16\n",
      "45      12\n",
      "180     10\n",
      "40       4\n",
      "Name: MSSubClass, dtype: int64\n",
      "\n",
      "Количество уникальных элементов 15\n"
     ]
    }
   ],
   "source": [
    "#MSSubClass: Identifies the type of dwelling involved in the sale.\t\n",
    "index = 'MSSubClass'\n",
    "df_train[index] = df_train[index].astype(str)\n",
    "counts = df_train[index].value_counts()\n",
    "plt.figure(figsize=(8, 2))\n",
    "sns.barplot(counts.index, counts.values)\n",
    "plt.show()\n",
    "\n",
    "print(f'\\nКоличество пропущенных элементов {df_train[index].isnull().sum()}')\n",
    "print(df_train[index].value_counts())\n",
    "print(f'\\nКоличество уникальных элементов {df_train[index].value_counts().size}')"
   ]
  },
  {
   "cell_type": "code",
   "execution_count": 5,
   "metadata": {},
   "outputs": [
    {
     "data": {
      "image/png": "[encoded data removed]",
      "text/plain": [
       "<Figure size 576x144 with 1 Axes>"
      ]
     },
     "metadata": {},
     "output_type": "display_data"
    },
    {
     "name": "stdout",
     "output_type": "stream",
     "text": [
      "\n",
      "Количество пропущенных элементов 0\n",
      "RL         1151\n",
      "RM          218\n",
      "FV           65\n",
      "RH           16\n",
      "C (all)      10\n",
      "Name: MSZoning, dtype: int64\n",
      "\n",
      "Количество уникальных элементов 5\n"
     ]
    }
   ],
   "source": [
    "#MSZoning: Identifies the general zoning classification of the sale.\n",
    "index = 'MSZoning'\n",
    "counts = df_train[index].value_counts()\n",
    "plt.figure(figsize=(8, 2))\n",
    "sns.barplot(counts.index, counts.values)\n",
    "plt.show()\n",
    "\n",
    "print(f'\\nКоличество пропущенных элементов {df_train[index].isnull().sum()}')\n",
    "print(df_train[index].value_counts())\n",
    "print(f'\\nКоличество уникальных элементов {df_train[index].value_counts().size}')"
   ]
  },
  {
   "cell_type": "code",
   "execution_count": 6,
   "metadata": {},
   "outputs": [
    {
     "data": {
      "image/png": "[encoded data removed]",
      "text/plain": [
       "<Figure size 576x144 with 1 Axes>"
      ]
     },
     "metadata": {},
     "output_type": "display_data"
    },
    {
     "name": "stdout",
     "output_type": "stream",
     "text": [
      "\n",
      "Количество пропущенных элементов 259\n",
      "Количество уникальных элементов 110\n",
      "median - 69.000\n",
      "mean - 70.050\n",
      "mode - 60.000\n",
      "квантиль 5% - 34.000\n",
      "квантиль 98% - 124.000\n",
      "21.0     23\n",
      "24.0     19\n",
      "30.0      6\n",
      "32.0      5\n",
      "33.0      1\n",
      "         ..\n",
      "160.0     1\n",
      "168.0     1\n",
      "174.0     2\n",
      "182.0     1\n",
      "313.0     2\n",
      "Name: LotFrontage, Length: 110, dtype: int64\n"
     ]
    }
   ],
   "source": [
    "#LotFrontage: Linear feet of street connected to property\n",
    "index = 'LotFrontage'\n",
    "plt.figure(figsize=(8, 2))\n",
    "sns.boxplot(df_train[index], whis=1.5)\n",
    "plt.xlabel(index)\n",
    "plt.show()\n",
    "\n",
    "print(f'\\nКоличество пропущенных элементов {df_train[index].isnull().sum()}')\n",
    "quantile = df_train.loc[df_train[index].notnull(), index]\n",
    "print(f'Количество уникальных элементов {quantile.value_counts().size}')\n",
    "print(f'median - {np.quantile(quantile, q=0.5):.3f}\\nmean - {np.mean(quantile):.3f}\\nmode - {stats.mode(quantile)[0][0]:.3f}')\n",
    "print(f'квантиль 5% - {np.quantile(quantile, q=0.05):.3f}\\nквантиль 98% - {np.quantile(quantile, q=0.98):.3f}')\n",
    "print(df_train[index].value_counts().sort_index(ascending=True))"
   ]
  },
  {
   "cell_type": "code",
   "execution_count": 7,
   "metadata": {},
   "outputs": [
    {
     "data": {
      "image/png": "[encoded data removed]",
      "text/plain": [
       "<Figure size 576x144 with 1 Axes>"
      ]
     },
     "metadata": {},
     "output_type": "display_data"
    },
    {
     "name": "stdout",
     "output_type": "stream",
     "text": [
      "\n",
      "Количество пропущенных элементов 0\n",
      "Количество уникальных элементов 1073\n",
      "median - 9478.500\n",
      "mean - 10516.828\n",
      "mode - 7200.000\n",
      "квантиль 5% - 3311.700\n",
      "квантиль 98% - 25251.620\n",
      "1300      1\n",
      "1477      1\n",
      "1491      1\n",
      "1526      1\n",
      "1533      2\n",
      "         ..\n",
      "70761     1\n",
      "115149    1\n",
      "159000    1\n",
      "164660    1\n",
      "215245    1\n",
      "Name: LotArea, Length: 1073, dtype: int64\n"
     ]
    }
   ],
   "source": [
    "#LotArea: Lot size in square feet\n",
    "index = 'LotArea'\n",
    "plt.figure(figsize=(8, 2))\n",
    "sns.boxplot(df_train[index], whis=1.5)\n",
    "plt.xlabel(index)\n",
    "plt.show()\n",
    "\n",
    "print(f'\\nКоличество пропущенных элементов {df_train[index].isnull().sum()}')\n",
    "quantile = df_train.loc[df_train[index].notnull(), index]\n",
    "print(f'Количество уникальных элементов {quantile.value_counts().size}')\n",
    "print(f'median - {np.quantile(quantile, q=0.5):.3f}\\nmean - {np.mean(quantile):.3f}\\nmode - {stats.mode(quantile)[0][0]:.3f}')\n",
    "print(f'квантиль 5% - {np.quantile(quantile, q=0.05):.3f}\\nквантиль 98% - {np.quantile(quantile, q=0.98):.3f}')\n",
    "print(df_train[index].value_counts().sort_index(ascending=True))"
   ]
  },
  {
   "cell_type": "code",
   "execution_count": 8,
   "metadata": {},
   "outputs": [
    {
     "data": {
      "image/png": "[encoded data removed]",
      "text/plain": [
       "<Figure size 576x144 with 1 Axes>"
      ]
     },
     "metadata": {},
     "output_type": "display_data"
    },
    {
     "name": "stdout",
     "output_type": "stream",
     "text": [
      "\n",
      "Количество пропущенных элементов 0\n",
      "Pave    1454\n",
      "Grvl       6\n",
      "Name: Street, dtype: int64\n",
      "\n",
      "Количество уникальных элементов 2\n"
     ]
    }
   ],
   "source": [
    "#Street: Type of road access to property\n",
    "index = 'Street'\n",
    "counts = df_train[index].value_counts()\n",
    "plt.figure(figsize=(8, 2))\n",
    "sns.barplot(counts.index, counts.values)\n",
    "plt.show()\n",
    "\n",
    "print(f'\\nКоличество пропущенных элементов {df_train[index].isnull().sum()}')\n",
    "print(df_train[index].value_counts())\n",
    "print(f'\\nКоличество уникальных элементов {df_train[index].value_counts().size}')\n",
    "#Удаляем "
   ]
  },
  {
   "cell_type": "code",
   "execution_count": 9,
   "metadata": {},
   "outputs": [
    {
     "data": {
      "image/png": "[encoded data removed]",
      "text/plain": [
       "<Figure size 576x144 with 1 Axes>"
      ]
     },
     "metadata": {},
     "output_type": "display_data"
    },
    {
     "name": "stdout",
     "output_type": "stream",
     "text": [
      "\n",
      "Количество пропущенных элементов 1369\n",
      "Grvl    50\n",
      "Pave    41\n",
      "Name: Alley, dtype: int64\n",
      "\n",
      "Количество уникальных элементов 2\n"
     ]
    }
   ],
   "source": [
    "#Alley: Type of alley access to property\n",
    "index = 'Alley'\n",
    "counts = df_train[index].value_counts()\n",
    "plt.figure(figsize=(8, 2))\n",
    "sns.barplot(counts.index, counts.values)\n",
    "plt.show()\n",
    "\n",
    "print(f'\\nКоличество пропущенных элементов {df_train[index].isnull().sum()}')\n",
    "print(df_train[index].value_counts())\n",
    "print(f'\\nКоличество уникальных элементов {df_train[index].value_counts().size}')"
   ]
  },
  {
   "cell_type": "code",
   "execution_count": 10,
   "metadata": {},
   "outputs": [
    {
     "data": {
      "image/png": "[encoded data removed]",
      "text/plain": [
       "<Figure size 576x144 with 1 Axes>"
      ]
     },
     "metadata": {},
     "output_type": "display_data"
    },
    {
     "name": "stdout",
     "output_type": "stream",
     "text": [
      "\n",
      "Количество пропущенных элементов 0\n",
      "Reg    925\n",
      "IR1    484\n",
      "IR2     41\n",
      "IR3     10\n",
      "Name: LotShape, dtype: int64\n",
      "\n",
      "Количество уникальных элементов 4\n"
     ]
    }
   ],
   "source": [
    "#LotShape: General shape of property\n",
    "index = 'LotShape'\n",
    "counts = df_train[index].value_counts()\n",
    "plt.figure(figsize=(8, 2))\n",
    "sns.barplot(counts.index, counts.values)\n",
    "plt.show()\n",
    "\n",
    "print(f'\\nКоличество пропущенных элементов {df_train[index].isnull().sum()}')\n",
    "print(df_train[index].value_counts())\n",
    "print(f'\\nКоличество уникальных элементов {df_train[index].value_counts().size}')"
   ]
  },
  {
   "cell_type": "code",
   "execution_count": 11,
   "metadata": {},
   "outputs": [
    {
     "data": {
      "image/png": "[encoded data removed]",
      "text/plain": [
       "<Figure size 576x144 with 1 Axes>"
      ]
     },
     "metadata": {},
     "output_type": "display_data"
    },
    {
     "name": "stdout",
     "output_type": "stream",
     "text": [
      "\n",
      "Количество пропущенных элементов 0\n",
      "Lvl    1311\n",
      "Bnk      63\n",
      "HLS      50\n",
      "Low      36\n",
      "Name: LandContour, dtype: int64\n",
      "\n",
      "Количество уникальных элементов 4\n"
     ]
    }
   ],
   "source": [
    "#LandContour: Flatness of the property\n",
    "index = 'LandContour'\n",
    "counts = df_train[index].value_counts()\n",
    "plt.figure(figsize=(8, 2))\n",
    "sns.barplot(counts.index, counts.values)\n",
    "plt.show()\n",
    "\n",
    "print(f'\\nКоличество пропущенных элементов {df_train[index].isnull().sum()}')\n",
    "print(df_train[index].value_counts())\n",
    "print(f'\\nКоличество уникальных элементов {df_train[index].value_counts().size}')"
   ]
  },
  {
   "cell_type": "code",
   "execution_count": 12,
   "metadata": {},
   "outputs": [
    {
     "data": {
      "image/png": "[encoded data removed]",
      "text/plain": [
       "<Figure size 576x144 with 1 Axes>"
      ]
     },
     "metadata": {},
     "output_type": "display_data"
    },
    {
     "name": "stdout",
     "output_type": "stream",
     "text": [
      "\n",
      "Количество пропущенных элементов 0\n",
      "AllPub    1459\n",
      "NoSeWa       1\n",
      "Name: Utilities, dtype: int64\n",
      "\n",
      "Количество уникальных элементов 2\n"
     ]
    }
   ],
   "source": [
    "#Utilities: Type of utilities available\n",
    "index = 'Utilities'\n",
    "counts = df_train[index].value_counts()\n",
    "plt.figure(figsize=(8, 2))\n",
    "sns.barplot(counts.index, counts.values)\n",
    "plt.show()\n",
    "\n",
    "print(f'\\nКоличество пропущенных элементов {df_train[index].isnull().sum()}')\n",
    "print(df_train[index].value_counts())\n",
    "print(f'\\nКоличество уникальных элементов {df_train[index].value_counts().size}')\n",
    "#удалить"
   ]
  },
  {
   "cell_type": "code",
   "execution_count": 13,
   "metadata": {},
   "outputs": [
    {
     "data": {
      "image/png": "[encoded data removed]",
      "text/plain": [
       "<Figure size 576x144 with 1 Axes>"
      ]
     },
     "metadata": {},
     "output_type": "display_data"
    },
    {
     "name": "stdout",
     "output_type": "stream",
     "text": [
      "\n",
      "Количество пропущенных элементов 0\n",
      "Inside     1052\n",
      "Corner      263\n",
      "CulDSac      94\n",
      "FR2          47\n",
      "FR3           4\n",
      "Name: LotConfig, dtype: int64\n",
      "\n",
      "Количество уникальных элементов 5\n"
     ]
    }
   ],
   "source": [
    "#LotConfig: Lot configuration\n",
    "index = 'LotConfig'\n",
    "counts = df_train[index].value_counts()\n",
    "plt.figure(figsize=(8, 2))\n",
    "sns.barplot(counts.index, counts.values)\n",
    "plt.show()\n",
    "\n",
    "print(f'\\nКоличество пропущенных элементов {df_train[index].isnull().sum()}')\n",
    "print(df_train[index].value_counts())\n",
    "print(f'\\nКоличество уникальных элементов {df_train[index].value_counts().size}')"
   ]
  },
  {
   "cell_type": "code",
   "execution_count": 14,
   "metadata": {},
   "outputs": [
    {
     "data": {
      "image/png": "[encoded data removed]",
      "text/plain": [
       "<Figure size 576x144 with 1 Axes>"
      ]
     },
     "metadata": {},
     "output_type": "display_data"
    },
    {
     "name": "stdout",
     "output_type": "stream",
     "text": [
      "\n",
      "Количество пропущенных элементов 0\n",
      "Gtl    1382\n",
      "Mod      65\n",
      "Sev      13\n",
      "Name: LandSlope, dtype: int64\n",
      "\n",
      "Количество уникальных элементов 3\n"
     ]
    }
   ],
   "source": [
    "#LandSlope: Slope of property\n",
    "index = 'LandSlope'\n",
    "counts = df_train[index].value_counts()\n",
    "plt.figure(figsize=(8, 2))\n",
    "sns.barplot(counts.index, counts.values)\n",
    "plt.show()\n",
    "\n",
    "print(f'\\nКоличество пропущенных элементов {df_train[index].isnull().sum()}')\n",
    "print(df_train[index].value_counts())\n",
    "print(f'\\nКоличество уникальных элементов {df_train[index].value_counts().size}')"
   ]
  },
  {
   "cell_type": "code",
   "execution_count": 15,
   "metadata": {},
   "outputs": [
    {
     "data": {
      "image/png": "[encoded data removed]",
      "text/plain": [
       "<Figure size 576x144 with 1 Axes>"
      ]
     },
     "metadata": {},
     "output_type": "display_data"
    },
    {
     "name": "stdout",
     "output_type": "stream",
     "text": [
      "\n",
      "Количество пропущенных элементов 0\n",
      "NAmes      225\n",
      "CollgCr    150\n",
      "OldTown    113\n",
      "Edwards    100\n",
      "Somerst     86\n",
      "Gilbert     79\n",
      "NridgHt     77\n",
      "Sawyer      74\n",
      "NWAmes      73\n",
      "SawyerW     59\n",
      "BrkSide     58\n",
      "Crawfor     51\n",
      "Mitchel     49\n",
      "NoRidge     41\n",
      "Timber      38\n",
      "IDOTRR      37\n",
      "ClearCr     28\n",
      "SWISU       25\n",
      "StoneBr     25\n",
      "Blmngtn     17\n",
      "MeadowV     17\n",
      "BrDale      16\n",
      "Veenker     11\n",
      "NPkVill      9\n",
      "Blueste      2\n",
      "Name: Neighborhood, dtype: int64\n",
      "\n",
      "Количество уникальных элементов 25\n"
     ]
    }
   ],
   "source": [
    "#Neighborhood: Physical locations within Ames city limits\n",
    "index = 'Neighborhood'\n",
    "counts = df_train[index].value_counts()\n",
    "plt.figure(figsize=(8, 2))\n",
    "sns.barplot(counts.index, counts.values)\n",
    "plt.show()\n",
    "\n",
    "print(f'\\nКоличество пропущенных элементов {df_train[index].isnull().sum()}')\n",
    "print(df_train[index].value_counts())\n",
    "print(f'\\nКоличество уникальных элементов {df_train[index].value_counts().size}')"
   ]
  },
  {
   "cell_type": "code",
   "execution_count": 16,
   "metadata": {},
   "outputs": [
    {
     "data": {
      "image/png": "[encoded data removed]",
      "text/plain": [
       "<Figure size 576x144 with 1 Axes>"
      ]
     },
     "metadata": {},
     "output_type": "display_data"
    },
    {
     "name": "stdout",
     "output_type": "stream",
     "text": [
      "\n",
      "Количество пропущенных элементов 0\n",
      "Norm      1260\n",
      "Feedr       81\n",
      "Artery      48\n",
      "RRAn        26\n",
      "PosN        19\n",
      "RRAe        11\n",
      "PosA         8\n",
      "RRNn         5\n",
      "RRNe         2\n",
      "Name: Condition1, dtype: int64\n",
      "\n",
      "Количество уникальных элементов 9\n"
     ]
    }
   ],
   "source": [
    "#Condition1: Proximity to various conditions\n",
    "index = 'Condition1'\n",
    "counts = df_train[index].value_counts()\n",
    "plt.figure(figsize=(8, 2))\n",
    "sns.barplot(counts.index, counts.values)\n",
    "plt.show()\n",
    "\n",
    "print(f'\\nКоличество пропущенных элементов {df_train[index].isnull().sum()}')\n",
    "print(df_train[index].value_counts())\n",
    "print(f'\\nКоличество уникальных элементов {df_train[index].value_counts().size}')"
   ]
  },
  {
   "cell_type": "code",
   "execution_count": 17,
   "metadata": {},
   "outputs": [
    {
     "data": {
      "image/png": "[encoded data removed]",
      "text/plain": [
       "<Figure size 576x144 with 1 Axes>"
      ]
     },
     "metadata": {},
     "output_type": "display_data"
    },
    {
     "name": "stdout",
     "output_type": "stream",
     "text": [
      "\n",
      "Количество пропущенных элементов 0\n",
      "Norm      1445\n",
      "Feedr        6\n",
      "Artery       2\n",
      "RRNn         2\n",
      "PosN         2\n",
      "RRAn         1\n",
      "PosA         1\n",
      "RRAe         1\n",
      "Name: Condition2, dtype: int64\n",
      "\n",
      "Количество уникальных элементов 8\n"
     ]
    }
   ],
   "source": [
    "#Condition2: Proximity to various conditions (if more than one is present)\n",
    "index = 'Condition2'\n",
    "counts = df_train[index].value_counts()\n",
    "plt.figure(figsize=(8, 2))\n",
    "sns.barplot(counts.index, counts.values)\n",
    "plt.show()\n",
    "\n",
    "print(f'\\nКоличество пропущенных элементов {df_train[index].isnull().sum()}')\n",
    "print(df_train[index].value_counts())\n",
    "print(f'\\nКоличество уникальных элементов {df_train[index].value_counts().size}')\n",
    "#удалить"
   ]
  },
  {
   "cell_type": "code",
   "execution_count": 18,
   "metadata": {},
   "outputs": [
    {
     "data": {
      "image/png": "[encoded data removed]",
      "text/plain": [
       "<Figure size 576x144 with 1 Axes>"
      ]
     },
     "metadata": {},
     "output_type": "display_data"
    },
    {
     "name": "stdout",
     "output_type": "stream",
     "text": [
      "\n",
      "Количество пропущенных элементов 0\n",
      "1Fam      1220\n",
      "TwnhsE     114\n",
      "Duplex      52\n",
      "Twnhs       43\n",
      "2fmCon      31\n",
      "Name: BldgType, dtype: int64\n",
      "\n",
      "Количество уникальных элементов 5\n"
     ]
    }
   ],
   "source": [
    "#BldgType: Type of dwelling\n",
    "index = 'BldgType'\n",
    "counts = df_train[index].value_counts()\n",
    "plt.figure(figsize=(8, 2))\n",
    "sns.barplot(counts.index, counts.values)\n",
    "plt.show()\n",
    "\n",
    "print(f'\\nКоличество пропущенных элементов {df_train[index].isnull().sum()}')\n",
    "print(df_train[index].value_counts())\n",
    "print(f'\\nКоличество уникальных элементов {df_train[index].value_counts().size}')"
   ]
  },
  {
   "cell_type": "code",
   "execution_count": 19,
   "metadata": {},
   "outputs": [
    {
     "data": {
      "image/png": "[encoded data removed]",
      "text/plain": [
       "<Figure size 576x144 with 1 Axes>"
      ]
     },
     "metadata": {},
     "output_type": "display_data"
    },
    {
     "name": "stdout",
     "output_type": "stream",
     "text": [
      "\n",
      "Количество пропущенных элементов 0\n",
      "1Story    726\n",
      "2Story    445\n",
      "1.5Fin    154\n",
      "SLvl       65\n",
      "SFoyer     37\n",
      "1.5Unf     14\n",
      "2.5Unf     11\n",
      "2.5Fin      8\n",
      "Name: HouseStyle, dtype: int64\n",
      "\n",
      "Количество уникальных элементов 8\n"
     ]
    }
   ],
   "source": [
    "#HouseStyle: Style of dwelling\n",
    "index = 'HouseStyle'\n",
    "counts = df_train[index].value_counts()\n",
    "plt.figure(figsize=(8, 2))\n",
    "sns.barplot(counts.index, counts.values)\n",
    "plt.show()\n",
    "\n",
    "print(f'\\nКоличество пропущенных элементов {df_train[index].isnull().sum()}')\n",
    "print(df_train[index].value_counts())\n",
    "print(f'\\nКоличество уникальных элементов {df_train[index].value_counts().size}')"
   ]
  },
  {
   "cell_type": "code",
   "execution_count": 20,
   "metadata": {},
   "outputs": [
    {
     "data": {
      "image/png": "[encoded data removed]",
      "text/plain": [
       "<Figure size 576x144 with 1 Axes>"
      ]
     },
     "metadata": {},
     "output_type": "display_data"
    },
    {
     "name": "stdout",
     "output_type": "stream",
     "text": [
      "\n",
      "Количество пропущенных элементов 0\n",
      "5     397\n",
      "6     374\n",
      "7     319\n",
      "8     168\n",
      "4     116\n",
      "9      43\n",
      "3      20\n",
      "10     18\n",
      "2       3\n",
      "1       2\n",
      "Name: OverallQual, dtype: int64\n",
      "\n",
      "Количество уникальных элементов 10\n"
     ]
    }
   ],
   "source": [
    "#OverallQual: Rates the overall material and finish of the house\n",
    "index = 'OverallQual'\n",
    "counts = df_train[index].value_counts()\n",
    "plt.figure(figsize=(8, 2))\n",
    "sns.barplot(counts.index, counts.values)\n",
    "plt.show()\n",
    "\n",
    "print(f'\\nКоличество пропущенных элементов {df_train[index].isnull().sum()}')\n",
    "print(df_train[index].value_counts())\n",
    "print(f'\\nКоличество уникальных элементов {df_train[index].value_counts().size}')"
   ]
  },
  {
   "cell_type": "code",
   "execution_count": 21,
   "metadata": {},
   "outputs": [
    {
     "data": {
      "image/png": "[encoded data removed]",
      "text/plain": [
       "<Figure size 576x144 with 1 Axes>"
      ]
     },
     "metadata": {},
     "output_type": "display_data"
    },
    {
     "name": "stdout",
     "output_type": "stream",
     "text": [
      "\n",
      "Количество пропущенных элементов 0\n",
      "5    821\n",
      "6    252\n",
      "7    205\n",
      "8     72\n",
      "4     57\n",
      "3     25\n",
      "9     22\n",
      "2      5\n",
      "1      1\n",
      "Name: OverallCond, dtype: int64\n",
      "\n",
      "Количество уникальных элементов 9\n"
     ]
    }
   ],
   "source": [
    "#OverallCond: Rates the overall condition of the house\n",
    "index = 'OverallCond'\n",
    "counts = df_train[index].value_counts()\n",
    "plt.figure(figsize=(8, 2))\n",
    "sns.barplot(counts.index, counts.values)\n",
    "plt.show()\n",
    "\n",
    "print(f'\\nКоличество пропущенных элементов {df_train[index].isnull().sum()}')\n",
    "print(df_train[index].value_counts())\n",
    "print(f'\\nКоличество уникальных элементов {df_train[index].value_counts().size}')"
   ]
  },
  {
   "cell_type": "code",
   "execution_count": 22,
   "metadata": {},
   "outputs": [
    {
     "data": {
      "image/png": "[encoded data removed]",
      "text/plain": [
       "<Figure size 576x144 with 1 Axes>"
      ]
     },
     "metadata": {},
     "output_type": "display_data"
    },
    {
     "name": "stdout",
     "output_type": "stream",
     "text": [
      "\n",
      "Количество пропущенных элементов 0\n",
      "Количество уникальных элементов 112\n",
      "median - 1973.000\n",
      "mean - 1971.268\n",
      "mode - 2006.000\n",
      "квантиль 5% - 1916.000\n",
      "квантиль 98% - 2008.000\n",
      "1872     1\n",
      "1875     1\n",
      "1880     4\n",
      "1882     1\n",
      "1885     2\n",
      "        ..\n",
      "2006    67\n",
      "2007    49\n",
      "2008    23\n",
      "2009    18\n",
      "2010     1\n",
      "Name: YearBuilt, Length: 112, dtype: int64\n"
     ]
    }
   ],
   "source": [
    "#YearBuilt: Original construction date\n",
    "index = 'YearBuilt'\n",
    "plt.figure(figsize=(8, 2))\n",
    "sns.boxplot(df_train[index], whis=1.5)\n",
    "plt.xlabel(index)\n",
    "plt.show()\n",
    "\n",
    "print(f'\\nКоличество пропущенных элементов {df_train[index].isnull().sum()}')\n",
    "quantile = df_train.loc[df_train[index].notnull(), index]\n",
    "print(f'Количество уникальных элементов {quantile.value_counts().size}')\n",
    "print(f'median - {np.quantile(quantile, q=0.5):.3f}\\nmean - {np.mean(quantile):.3f}\\nmode - {stats.mode(quantile)[0][0]:.3f}')\n",
    "print(f'квантиль 5% - {np.quantile(quantile, q=0.05):.3f}\\nквантиль 98% - {np.quantile(quantile, q=0.98):.3f}')\n",
    "print(df_train[index].value_counts().sort_index(ascending=True))"
   ]
  },
  {
   "cell_type": "code",
   "execution_count": 23,
   "metadata": {},
   "outputs": [
    {
     "data": {
      "image/png": "[encoded data removed]",
      "text/plain": [
       "<Figure size 576x144 with 1 Axes>"
      ]
     },
     "metadata": {},
     "output_type": "display_data"
    },
    {
     "name": "stdout",
     "output_type": "stream",
     "text": [
      "\n",
      "Количество пропущенных элементов 0\n",
      "Количество уникальных элементов 61\n",
      "median - 1994.000\n",
      "mean - 1984.866\n",
      "mode - 1950.000\n",
      "квантиль 5% - 1950.000\n",
      "квантиль 98% - 2008.000\n",
      "1950    178\n",
      "1951      4\n",
      "1952      5\n",
      "1953     10\n",
      "1954     14\n",
      "       ... \n",
      "2006     97\n",
      "2007     76\n",
      "2008     40\n",
      "2009     23\n",
      "2010      6\n",
      "Name: YearRemodAdd, Length: 61, dtype: int64\n"
     ]
    }
   ],
   "source": [
    "#YearRemodAdd: Remodel date (same as construction date if no remodeling or additions)\n",
    "index = 'YearRemodAdd'\n",
    "plt.figure(figsize=(8, 2))\n",
    "sns.boxplot(df_train[index], whis=1.5)\n",
    "plt.xlabel(index)\n",
    "plt.show()\n",
    "\n",
    "print(f'\\nКоличество пропущенных элементов {df_train[index].isnull().sum()}')\n",
    "quantile = df_train.loc[df_train[index].notnull(), index]\n",
    "print(f'Количество уникальных элементов {quantile.value_counts().size}')\n",
    "print(f'median - {np.quantile(quantile, q=0.5):.3f}\\nmean - {np.mean(quantile):.3f}\\nmode - {stats.mode(quantile)[0][0]:.3f}')\n",
    "print(f'квантиль 5% - {np.quantile(quantile, q=0.05):.3f}\\nквантиль 98% - {np.quantile(quantile, q=0.98):.3f}')\n",
    "print(df_train[index].value_counts().sort_index(ascending=True))"
   ]
  },
  {
   "cell_type": "code",
   "execution_count": 24,
   "metadata": {},
   "outputs": [
    {
     "data": {
      "image/png": "[encoded data removed]",
      "text/plain": [
       "<Figure size 576x144 with 1 Axes>"
      ]
     },
     "metadata": {},
     "output_type": "display_data"
    },
    {
     "name": "stdout",
     "output_type": "stream",
     "text": [
      "\n",
      "Количество пропущенных элементов 0\n",
      "Gable      1141\n",
      "Hip         286\n",
      "Flat         13\n",
      "Gambrel      11\n",
      "Mansard       7\n",
      "Shed          2\n",
      "Name: RoofStyle, dtype: int64\n",
      "\n",
      "Количество уникальных элементов 6\n"
     ]
    }
   ],
   "source": [
    "#RoofStyle: Type of roof\n",
    "index = 'RoofStyle'\n",
    "counts = df_train[index].value_counts()\n",
    "plt.figure(figsize=(8, 2))\n",
    "sns.barplot(counts.index, counts.values)\n",
    "plt.show()\n",
    "\n",
    "print(f'\\nКоличество пропущенных элементов {df_train[index].isnull().sum()}')\n",
    "print(df_train[index].value_counts())\n",
    "print(f'\\nКоличество уникальных элементов {df_train[index].value_counts().size}')"
   ]
  },
  {
   "cell_type": "code",
   "execution_count": 25,
   "metadata": {},
   "outputs": [
    {
     "data": {
      "image/png": "[encoded data removed]",
      "text/plain": [
       "<Figure size 576x144 with 1 Axes>"
      ]
     },
     "metadata": {},
     "output_type": "display_data"
    },
    {
     "name": "stdout",
     "output_type": "stream",
     "text": [
      "\n",
      "Количество пропущенных элементов 0\n",
      "CompShg    1434\n",
      "Tar&Grv      11\n",
      "WdShngl       6\n",
      "WdShake       5\n",
      "ClyTile       1\n",
      "Roll          1\n",
      "Metal         1\n",
      "Membran       1\n",
      "Name: RoofMatl, dtype: int64\n",
      "\n",
      "Количество уникальных элементов 8\n"
     ]
    }
   ],
   "source": [
    "#RoofMatl: Roof material\n",
    "index = 'RoofMatl'\n",
    "counts = df_train[index].value_counts()\n",
    "plt.figure(figsize=(8, 2))\n",
    "sns.barplot(counts.index, counts.values)\n",
    "plt.show()\n",
    "\n",
    "print(f'\\nКоличество пропущенных элементов {df_train[index].isnull().sum()}')\n",
    "print(df_train[index].value_counts())\n",
    "print(f'\\nКоличество уникальных элементов {df_train[index].value_counts().size}')\n",
    "#удалить"
   ]
  },
  {
   "cell_type": "code",
   "execution_count": 26,
   "metadata": {},
   "outputs": [
    {
     "data": {
      "image/png": "[encoded data removed]",
      "text/plain": [
       "<Figure size 576x144 with 1 Axes>"
      ]
     },
     "metadata": {},
     "output_type": "display_data"
    },
    {
     "name": "stdout",
     "output_type": "stream",
     "text": [
      "\n",
      "Количество пропущенных элементов 0\n",
      "VinylSd    515\n",
      "HdBoard    222\n",
      "MetalSd    220\n",
      "Wd Sdng    206\n",
      "Plywood    108\n",
      "CemntBd     61\n",
      "BrkFace     50\n",
      "WdShing     26\n",
      "Stucco      25\n",
      "AsbShng     20\n",
      "Stone        2\n",
      "BrkComm      2\n",
      "AsphShn      1\n",
      "CBlock       1\n",
      "ImStucc      1\n",
      "Name: Exterior1st, dtype: int64\n",
      "\n",
      "Количество уникальных элементов 15\n"
     ]
    }
   ],
   "source": [
    "#Exterior1st: Exterior covering on house\n",
    "index = 'Exterior1st'\n",
    "counts = df_train[index].value_counts()\n",
    "plt.figure(figsize=(8, 2))\n",
    "sns.barplot(counts.index, counts.values)\n",
    "plt.show()\n",
    "\n",
    "print(f'\\nКоличество пропущенных элементов {df_train[index].isnull().sum()}')\n",
    "print(df_train[index].value_counts())\n",
    "print(f'\\nКоличество уникальных элементов {df_train[index].value_counts().size}')"
   ]
  },
  {
   "cell_type": "code",
   "execution_count": 27,
   "metadata": {},
   "outputs": [
    {
     "data": {
      "image/png": "[encoded data removed]",
      "text/plain": [
       "<Figure size 576x144 with 1 Axes>"
      ]
     },
     "metadata": {},
     "output_type": "display_data"
    },
    {
     "name": "stdout",
     "output_type": "stream",
     "text": [
      "\n",
      "Количество пропущенных элементов 0\n",
      "VinylSd    504\n",
      "MetalSd    214\n",
      "HdBoard    207\n",
      "Wd Sdng    197\n",
      "Plywood    142\n",
      "CmentBd     60\n",
      "Wd Shng     38\n",
      "Stucco      26\n",
      "BrkFace     25\n",
      "AsbShng     20\n",
      "ImStucc     10\n",
      "Brk Cmn      7\n",
      "Stone        5\n",
      "AsphShn      3\n",
      "Other        1\n",
      "CBlock       1\n",
      "Name: Exterior2nd, dtype: int64\n",
      "\n",
      "Количество уникальных элементов 16\n"
     ]
    }
   ],
   "source": [
    "#Exterior2nd: Exterior covering on house (if more than one material)\n",
    "index = 'Exterior2nd'\n",
    "counts = df_train[index].value_counts()\n",
    "plt.figure(figsize=(8, 2))\n",
    "sns.barplot(counts.index, counts.values)\n",
    "plt.show()\n",
    "\n",
    "print(f'\\nКоличество пропущенных элементов {df_train[index].isnull().sum()}')\n",
    "print(df_train[index].value_counts())\n",
    "print(f'\\nКоличество уникальных элементов {df_train[index].value_counts().size}')"
   ]
  },
  {
   "cell_type": "code",
   "execution_count": 28,
   "metadata": {},
   "outputs": [
    {
     "data": {
      "image/png": "[encoded data removed]",
      "text/plain": [
       "<Figure size 576x144 with 1 Axes>"
      ]
     },
     "metadata": {},
     "output_type": "display_data"
    },
    {
     "name": "stdout",
     "output_type": "stream",
     "text": [
      "\n",
      "Количество пропущенных элементов 8\n",
      "None       864\n",
      "BrkFace    445\n",
      "Stone      128\n",
      "BrkCmn      15\n",
      "Name: MasVnrType, dtype: int64\n",
      "\n",
      "Количество уникальных элементов 4\n"
     ]
    }
   ],
   "source": [
    "#MasVnrType: Masonry veneer type\n",
    "index = 'MasVnrType'\n",
    "counts = df_train[index].value_counts()\n",
    "plt.figure(figsize=(8, 2))\n",
    "sns.barplot(counts.index, counts.values)\n",
    "plt.show()\n",
    "\n",
    "print(f'\\nКоличество пропущенных элементов {df_train[index].isnull().sum()}')\n",
    "print(df_train[index].value_counts())\n",
    "print(f'\\nКоличество уникальных элементов {df_train[index].value_counts().size}')"
   ]
  },
  {
   "cell_type": "code",
   "execution_count": 29,
   "metadata": {},
   "outputs": [
    {
     "data": {
      "image/png": "[encoded data removed]",
      "text/plain": [
       "<Figure size 576x144 with 1 Axes>"
      ]
     },
     "metadata": {},
     "output_type": "display_data"
    },
    {
     "name": "stdout",
     "output_type": "stream",
     "text": [
      "\n",
      "Количество пропущенных элементов 8\n",
      "Количество уникальных элементов 327\n",
      "median - 0.000\n",
      "mean - 103.685\n",
      "mode - 0.000\n",
      "квантиль 5% - 0.000\n",
      "квантиль 98% - 650.980\n",
      "0.0       861\n",
      "1.0         2\n",
      "11.0        1\n",
      "14.0        1\n",
      "16.0        7\n",
      "         ... \n",
      "1115.0      1\n",
      "1129.0      1\n",
      "1170.0      1\n",
      "1378.0      1\n",
      "1600.0      1\n",
      "Name: MasVnrArea, Length: 327, dtype: int64\n"
     ]
    }
   ],
   "source": [
    "#MasVnrArea: Masonry veneer area in square feet\n",
    "index = 'MasVnrArea'\n",
    "plt.figure(figsize=(8, 2))\n",
    "sns.boxplot(df_train[index], whis=1.5)\n",
    "plt.xlabel(index)\n",
    "plt.show()\n",
    "\n",
    "print(f'\\nКоличество пропущенных элементов {df_train[index].isnull().sum()}')\n",
    "quantile = df_train.loc[df_train[index].notnull(), index]\n",
    "print(f'Количество уникальных элементов {quantile.value_counts().size}')\n",
    "print(f'median - {np.quantile(quantile, q=0.5):.3f}\\nmean - {np.mean(quantile):.3f}\\nmode - {stats.mode(quantile)[0][0]:.3f}')\n",
    "print(f'квантиль 5% - {np.quantile(quantile, q=0.05):.3f}\\nквантиль 98% - {np.quantile(quantile, q=0.98):.3f}')\n",
    "print(df_train[index].value_counts().sort_index(ascending=True))"
   ]
  },
  {
   "cell_type": "code",
   "execution_count": 30,
   "metadata": {},
   "outputs": [
    {
     "data": {
      "image/png": "[encoded data removed]",
      "text/plain": [
       "<Figure size 576x144 with 1 Axes>"
      ]
     },
     "metadata": {},
     "output_type": "display_data"
    },
    {
     "name": "stdout",
     "output_type": "stream",
     "text": [
      "\n",
      "Количество пропущенных элементов 0\n",
      "TA    906\n",
      "Gd    488\n",
      "Ex     52\n",
      "Fa     14\n",
      "Name: ExterQual, dtype: int64\n",
      "\n",
      "Количество уникальных элементов 4\n"
     ]
    }
   ],
   "source": [
    "#ExterQual: Evaluates the quality of the material on the exterior \n",
    "index = 'ExterQual'\n",
    "counts = df_train[index].value_counts()\n",
    "plt.figure(figsize=(8, 2))\n",
    "sns.barplot(counts.index, counts.values)\n",
    "plt.show()\n",
    "\n",
    "print(f'\\nКоличество пропущенных элементов {df_train[index].isnull().sum()}')\n",
    "print(df_train[index].value_counts())\n",
    "print(f'\\nКоличество уникальных элементов {df_train[index].value_counts().size}')"
   ]
  },
  {
   "cell_type": "code",
   "execution_count": 31,
   "metadata": {},
   "outputs": [
    {
     "data": {
      "image/png": "[encoded data removed]",
      "text/plain": [
       "<Figure size 576x144 with 1 Axes>"
      ]
     },
     "metadata": {},
     "output_type": "display_data"
    },
    {
     "name": "stdout",
     "output_type": "stream",
     "text": [
      "\n",
      "Количество пропущенных элементов 0\n",
      "TA    1282\n",
      "Gd     146\n",
      "Fa      28\n",
      "Ex       3\n",
      "Po       1\n",
      "Name: ExterCond, dtype: int64\n",
      "\n",
      "Количество уникальных элементов 5\n"
     ]
    }
   ],
   "source": [
    "#ExterCond: Evaluates the present condition of the material on the exterior\n",
    "index = 'ExterCond'\n",
    "counts = df_train[index].value_counts()\n",
    "plt.figure(figsize=(8, 2))\n",
    "sns.barplot(counts.index, counts.values)\n",
    "plt.show()\n",
    "\n",
    "print(f'\\nКоличество пропущенных элементов {df_train[index].isnull().sum()}')\n",
    "print(df_train[index].value_counts())\n",
    "print(f'\\nКоличество уникальных элементов {df_train[index].value_counts().size}')"
   ]
  },
  {
   "cell_type": "code",
   "execution_count": 32,
   "metadata": {},
   "outputs": [
    {
     "data": {
      "image/png": "[encoded data removed]",
      "text/plain": [
       "<Figure size 576x144 with 1 Axes>"
      ]
     },
     "metadata": {},
     "output_type": "display_data"
    },
    {
     "name": "stdout",
     "output_type": "stream",
     "text": [
      "\n",
      "Количество пропущенных элементов 0\n",
      "PConc     647\n",
      "CBlock    634\n",
      "BrkTil    146\n",
      "Slab       24\n",
      "Stone       6\n",
      "Wood        3\n",
      "Name: Foundation, dtype: int64\n",
      "\n",
      "Количество уникальных элементов 6\n"
     ]
    }
   ],
   "source": [
    "#Foundation: Type of foundation\n",
    "index = 'Foundation'\n",
    "counts = df_train[index].value_counts()\n",
    "plt.figure(figsize=(8, 2))\n",
    "sns.barplot(counts.index, counts.values)\n",
    "plt.show()\n",
    "\n",
    "print(f'\\nКоличество пропущенных элементов {df_train[index].isnull().sum()}')\n",
    "print(df_train[index].value_counts())\n",
    "print(f'\\nКоличество уникальных элементов {df_train[index].value_counts().size}')"
   ]
  },
  {
   "cell_type": "code",
   "execution_count": 33,
   "metadata": {},
   "outputs": [
    {
     "data": {
      "image/png": "[encoded data removed]",
      "text/plain": [
       "<Figure size 576x144 with 1 Axes>"
      ]
     },
     "metadata": {},
     "output_type": "display_data"
    },
    {
     "name": "stdout",
     "output_type": "stream",
     "text": [
      "\n",
      "Количество пропущенных элементов 0\n",
      "0    690\n",
      "1    650\n",
      "2    115\n",
      "3      5\n",
      "Name: Fireplaces, dtype: int64\n",
      "\n",
      "Количество уникальных элементов 4\n"
     ]
    }
   ],
   "source": [
    "#Fireplaces: Number of fireplaces\n",
    "index = 'Fireplaces'\n",
    "counts = df_train[index].value_counts()\n",
    "plt.figure(figsize=(8, 2))\n",
    "sns.barplot(counts.index, counts.values)\n",
    "plt.show()\n",
    "\n",
    "print(f'\\nКоличество пропущенных элементов {df_train[index].isnull().sum()}')\n",
    "print(df_train[index].value_counts())\n",
    "print(f'\\nКоличество уникальных элементов {df_train[index].value_counts().size}')"
   ]
  },
  {
   "cell_type": "code",
   "execution_count": 34,
   "metadata": {},
   "outputs": [
    {
     "data": {
      "image/png": "[encoded data removed]",
      "text/plain": [
       "<Figure size 576x144 with 1 Axes>"
      ]
     },
     "metadata": {},
     "output_type": "display_data"
    },
    {
     "name": "stdout",
     "output_type": "stream",
     "text": [
      "\n",
      "Количество пропущенных элементов 690\n",
      "Gd    380\n",
      "TA    313\n",
      "Fa     33\n",
      "Ex     24\n",
      "Po     20\n",
      "Name: FireplaceQu, dtype: int64\n",
      "\n",
      "Количество уникальных элементов 5\n"
     ]
    }
   ],
   "source": [
    "#FireplaceQu: Fireplace quality\n",
    "index = 'FireplaceQu'\n",
    "counts = df_train[index].value_counts()\n",
    "plt.figure(figsize=(8, 2))\n",
    "sns.barplot(counts.index, counts.values)\n",
    "plt.show()\n",
    "\n",
    "print(f'\\nКоличество пропущенных элементов {df_train[index].isnull().sum()}')\n",
    "print(df_train[index].value_counts())\n",
    "print(f'\\nКоличество уникальных элементов {df_train[index].value_counts().size}')"
   ]
  },
  {
   "cell_type": "code",
   "execution_count": 35,
   "metadata": {},
   "outputs": [
    {
     "data": {
      "image/png": "[encoded data removed]",
      "text/plain": [
       "<Figure size 576x144 with 1 Axes>"
      ]
     },
     "metadata": {},
     "output_type": "display_data"
    },
    {
     "name": "stdout",
     "output_type": "stream",
     "text": [
      "\n",
      "Количество пропущенных элементов 81\n",
      "Attchd     870\n",
      "Detchd     387\n",
      "BuiltIn     88\n",
      "Basment     19\n",
      "CarPort      9\n",
      "2Types       6\n",
      "Name: GarageType, dtype: int64\n",
      "\n",
      "Количество уникальных элементов 6\n"
     ]
    }
   ],
   "source": [
    "#GarageType: Garage location\n",
    "index = 'GarageType'\n",
    "counts = df_train[index].value_counts()\n",
    "plt.figure(figsize=(8, 2))\n",
    "sns.barplot(counts.index, counts.values)\n",
    "plt.show()\n",
    "\n",
    "print(f'\\nКоличество пропущенных элементов {df_train[index].isnull().sum()}')\n",
    "print(df_train[index].value_counts())\n",
    "print(f'\\nКоличество уникальных элементов {df_train[index].value_counts().size}')"
   ]
  },
  {
   "cell_type": "code",
   "execution_count": 36,
   "metadata": {},
   "outputs": [
    {
     "data": {
      "image/png": "[encoded data removed]",
      "text/plain": [
       "<Figure size 576x144 with 1 Axes>"
      ]
     },
     "metadata": {},
     "output_type": "display_data"
    },
    {
     "name": "stdout",
     "output_type": "stream",
     "text": [
      "\n",
      "Количество пропущенных элементов 81\n",
      "Количество уникальных элементов 97\n",
      "median - 1980.000\n",
      "mean - 1978.506\n",
      "mode - 2005.000\n",
      "квантиль 5% - 1930.000\n",
      "квантиль 98% - 2008.000\n",
      "1900.0     1\n",
      "1906.0     1\n",
      "1908.0     1\n",
      "1910.0     3\n",
      "1914.0     2\n",
      "          ..\n",
      "2006.0    59\n",
      "2007.0    49\n",
      "2008.0    29\n",
      "2009.0    21\n",
      "2010.0     3\n",
      "Name: GarageYrBlt, Length: 97, dtype: int64\n"
     ]
    }
   ],
   "source": [
    "#GarageYrBlt: Year garage was built\n",
    "index = 'GarageYrBlt'\n",
    "plt.figure(figsize=(8, 2))\n",
    "sns.boxplot(df_train[index], whis=1.5)\n",
    "plt.xlabel(index)\n",
    "plt.show()\n",
    "\n",
    "print(f'\\nКоличество пропущенных элементов {df_train[index].isnull().sum()}')\n",
    "quantile = df_train.loc[df_train[index].notnull(), index]\n",
    "print(f'Количество уникальных элементов {quantile.value_counts().size}')\n",
    "print(f'median - {np.quantile(quantile, q=0.5):.3f}\\nmean - {np.mean(quantile):.3f}\\nmode - {stats.mode(quantile)[0][0]:.3f}')\n",
    "print(f'квантиль 5% - {np.quantile(quantile, q=0.05):.3f}\\nквантиль 98% - {np.quantile(quantile, q=0.98):.3f}')\n",
    "print(df_train[index].value_counts().sort_index(ascending=True))"
   ]
  },
  {
   "cell_type": "code",
   "execution_count": 37,
   "metadata": {},
   "outputs": [
    {
     "data": {
      "image/png": "[encoded data removed]",
      "text/plain": [
       "<Figure size 576x144 with 1 Axes>"
      ]
     },
     "metadata": {},
     "output_type": "display_data"
    },
    {
     "name": "stdout",
     "output_type": "stream",
     "text": [
      "\n",
      "Количество пропущенных элементов 81\n",
      "Unf    605\n",
      "RFn    422\n",
      "Fin    352\n",
      "Name: GarageFinish, dtype: int64\n",
      "\n",
      "Количество уникальных элементов 3\n"
     ]
    }
   ],
   "source": [
    "#GarageFinish: Interior finish of the garage\n",
    "index = 'GarageFinish'\n",
    "counts = df_train[index].value_counts()\n",
    "plt.figure(figsize=(8, 2))\n",
    "sns.barplot(counts.index, counts.values)\n",
    "plt.show()\n",
    "\n",
    "print(f'\\nКоличество пропущенных элементов {df_train[index].isnull().sum()}')\n",
    "print(df_train[index].value_counts())\n",
    "print(f'\\nКоличество уникальных элементов {df_train[index].value_counts().size}')"
   ]
  },
  {
   "cell_type": "code",
   "execution_count": 38,
   "metadata": {},
   "outputs": [
    {
     "data": {
      "image/png": "[encoded data removed]",
      "text/plain": [
       "<Figure size 576x144 with 1 Axes>"
      ]
     },
     "metadata": {},
     "output_type": "display_data"
    },
    {
     "name": "stdout",
     "output_type": "stream",
     "text": [
      "\n",
      "Количество пропущенных элементов 0\n",
      "2    824\n",
      "1    369\n",
      "3    181\n",
      "0     81\n",
      "4      5\n",
      "Name: GarageCars, dtype: int64\n",
      "\n",
      "Количество уникальных элементов 5\n"
     ]
    }
   ],
   "source": [
    "#GarageCars: Size of garage in car capacity\n",
    "index = 'GarageCars'\n",
    "counts = df_train[index].value_counts()\n",
    "plt.figure(figsize=(8, 2))\n",
    "sns.barplot(counts.index, counts.values)\n",
    "plt.show()\n",
    "\n",
    "print(f'\\nКоличество пропущенных элементов {df_train[index].isnull().sum()}')\n",
    "print(df_train[index].value_counts())\n",
    "print(f'\\nКоличество уникальных элементов {df_train[index].value_counts().size}')"
   ]
  },
  {
   "cell_type": "code",
   "execution_count": 39,
   "metadata": {},
   "outputs": [
    {
     "data": {
      "image/png": "[encoded data removed]",
      "text/plain": [
       "<Figure size 576x144 with 1 Axes>"
      ]
     },
     "metadata": {},
     "output_type": "display_data"
    },
    {
     "name": "stdout",
     "output_type": "stream",
     "text": [
      "\n",
      "Количество пропущенных элементов 0\n",
      "Количество уникальных элементов 441\n",
      "median - 480.000\n",
      "mean - 472.980\n",
      "mode - 0.000\n",
      "квантиль 5% - 0.000\n",
      "квантиль 98% - 907.460\n",
      "0       81\n",
      "160      2\n",
      "164      1\n",
      "180      9\n",
      "186      1\n",
      "        ..\n",
      "1220     1\n",
      "1248     1\n",
      "1356     1\n",
      "1390     1\n",
      "1418     1\n",
      "Name: GarageArea, Length: 441, dtype: int64\n"
     ]
    }
   ],
   "source": [
    "#GarageArea: Size of garage in square feet\n",
    "index = 'GarageArea'\n",
    "plt.figure(figsize=(8, 2))\n",
    "sns.boxplot(df_train[index], whis=1.5)\n",
    "plt.xlabel(index)\n",
    "plt.show()\n",
    "\n",
    "print(f'\\nКоличество пропущенных элементов {df_train[index].isnull().sum()}')\n",
    "quantile = df_train.loc[df_train[index].notnull(), index]\n",
    "print(f'Количество уникальных элементов {quantile.value_counts().size}')\n",
    "print(f'median - {np.quantile(quantile, q=0.5):.3f}\\nmean - {np.mean(quantile):.3f}\\nmode - {stats.mode(quantile)[0][0]:.3f}')\n",
    "print(f'квантиль 5% - {np.quantile(quantile, q=0.05):.3f}\\nквантиль 98% - {np.quantile(quantile, q=0.98):.3f}')\n",
    "print(df_train[index].value_counts().sort_index(ascending=True))"
   ]
  },
  {
   "cell_type": "code",
   "execution_count": 40,
   "metadata": {},
   "outputs": [
    {
     "data": {
      "image/png": "[encoded data removed]",
      "text/plain": [
       "<Figure size 576x144 with 1 Axes>"
      ]
     },
     "metadata": {},
     "output_type": "display_data"
    },
    {
     "name": "stdout",
     "output_type": "stream",
     "text": [
      "\n",
      "Количество пропущенных элементов 81\n",
      "TA    1311\n",
      "Fa      48\n",
      "Gd      14\n",
      "Po       3\n",
      "Ex       3\n",
      "Name: GarageQual, dtype: int64\n",
      "\n",
      "Количество уникальных элементов 5\n"
     ]
    }
   ],
   "source": [
    "#GarageQual: Garage quality\n",
    "index = 'GarageQual'\n",
    "counts = df_train[index].value_counts()\n",
    "plt.figure(figsize=(8, 2))\n",
    "sns.barplot(counts.index, counts.values)\n",
    "plt.show()\n",
    "\n",
    "print(f'\\nКоличество пропущенных элементов {df_train[index].isnull().sum()}')\n",
    "print(df_train[index].value_counts())\n",
    "print(f'\\nКоличество уникальных элементов {df_train[index].value_counts().size}')"
   ]
  },
  {
   "cell_type": "code",
   "execution_count": 41,
   "metadata": {},
   "outputs": [
    {
     "data": {
      "image/png": "[encoded data removed]",
      "text/plain": [
       "<Figure size 576x144 with 1 Axes>"
      ]
     },
     "metadata": {},
     "output_type": "display_data"
    },
    {
     "name": "stdout",
     "output_type": "stream",
     "text": [
      "\n",
      "Количество пропущенных элементов 81\n",
      "TA    1326\n",
      "Fa      35\n",
      "Gd       9\n",
      "Po       7\n",
      "Ex       2\n",
      "Name: GarageCond, dtype: int64\n",
      "\n",
      "Количество уникальных элементов 5\n"
     ]
    }
   ],
   "source": [
    "#GarageCond: Garage condition\n",
    "index = 'GarageCond'\n",
    "counts = df_train[index].value_counts()\n",
    "plt.figure(figsize=(8, 2))\n",
    "sns.barplot(counts.index, counts.values)\n",
    "plt.show()\n",
    "\n",
    "print(f'\\nКоличество пропущенных элементов {df_train[index].isnull().sum()}')\n",
    "print(df_train[index].value_counts())\n",
    "print(f'\\nКоличество уникальных элементов {df_train[index].value_counts().size}')"
   ]
  },
  {
   "cell_type": "code",
   "execution_count": 42,
   "metadata": {},
   "outputs": [
    {
     "data": {
      "image/png": "[encoded data removed]",
      "text/plain": [
       "<Figure size 576x144 with 1 Axes>"
      ]
     },
     "metadata": {},
     "output_type": "display_data"
    },
    {
     "name": "stdout",
     "output_type": "stream",
     "text": [
      "\n",
      "Количество пропущенных элементов 0\n",
      "Y    1340\n",
      "N      90\n",
      "P      30\n",
      "Name: PavedDrive, dtype: int64\n",
      "\n",
      "Количество уникальных элементов 3\n"
     ]
    }
   ],
   "source": [
    "#PavedDrive: Paved driveway\n",
    "index = 'PavedDrive'\n",
    "counts = df_train[index].value_counts()\n",
    "plt.figure(figsize=(8, 2))\n",
    "sns.barplot(counts.index, counts.values)\n",
    "plt.show()\n",
    "\n",
    "print(f'\\nКоличество пропущенных элементов {df_train[index].isnull().sum()}')\n",
    "print(df_train[index].value_counts())\n",
    "print(f'\\nКоличество уникальных элементов {df_train[index].value_counts().size}')"
   ]
  },
  {
   "cell_type": "code",
   "execution_count": 43,
   "metadata": {},
   "outputs": [
    {
     "data": {
      "image/png": "[encoded data removed]",
      "text/plain": [
       "<Figure size 576x144 with 1 Axes>"
      ]
     },
     "metadata": {},
     "output_type": "display_data"
    },
    {
     "name": "stdout",
     "output_type": "stream",
     "text": [
      "\n",
      "Количество пропущенных элементов 0\n",
      "Количество уникальных элементов 274\n",
      "median - 0.000\n",
      "mean - 94.245\n",
      "mode - 0.000\n",
      "квантиль 5% - 0.000\n",
      "квантиль 98% - 430.100\n",
      "0      761\n",
      "12       2\n",
      "24       2\n",
      "26       2\n",
      "28       2\n",
      "      ... \n",
      "668      1\n",
      "670      1\n",
      "728      1\n",
      "736      1\n",
      "857      1\n",
      "Name: WoodDeckSF, Length: 274, dtype: int64\n"
     ]
    }
   ],
   "source": [
    "#WoodDeckSF: Wood deck area in square feet\n",
    "index = 'WoodDeckSF'\n",
    "plt.figure(figsize=(8, 2))\n",
    "sns.boxplot(df_train[index], whis=1.5)\n",
    "plt.xlabel(index)\n",
    "plt.show()\n",
    "\n",
    "print(f'\\nКоличество пропущенных элементов {df_train[index].isnull().sum()}')\n",
    "quantile = df_train.loc[df_train[index].notnull(), index]\n",
    "print(f'Количество уникальных элементов {quantile.value_counts().size}')\n",
    "print(f'median - {np.quantile(quantile, q=0.5):.3f}\\nmean - {np.mean(quantile):.3f}\\nmode - {stats.mode(quantile)[0][0]:.3f}')\n",
    "print(f'квантиль 5% - {np.quantile(quantile, q=0.05):.3f}\\nквантиль 98% - {np.quantile(quantile, q=0.98):.3f}')\n",
    "print(df_train[index].value_counts().sort_index(ascending=True))"
   ]
  },
  {
   "cell_type": "code",
   "execution_count": 44,
   "metadata": {},
   "outputs": [
    {
     "data": {
      "image/png": "[encoded data removed]",
      "text/plain": [
       "<Figure size 576x144 with 1 Axes>"
      ]
     },
     "metadata": {},
     "output_type": "display_data"
    },
    {
     "name": "stdout",
     "output_type": "stream",
     "text": [
      "\n",
      "Количество пропущенных элементов 0\n",
      "Количество уникальных элементов 202\n",
      "median - 25.000\n",
      "mean - 46.660\n",
      "mode - 0.000\n",
      "квантиль 5% - 0.000\n",
      "квантиль 98% - 240.820\n",
      "0      656\n",
      "4        1\n",
      "8        1\n",
      "10       1\n",
      "11       1\n",
      "      ... \n",
      "406      1\n",
      "418      1\n",
      "502      1\n",
      "523      1\n",
      "547      1\n",
      "Name: OpenPorchSF, Length: 202, dtype: int64\n"
     ]
    }
   ],
   "source": [
    "#OpenPorchSF: Open porch area in square feet\n",
    "index = 'OpenPorchSF'\n",
    "plt.figure(figsize=(8, 2))\n",
    "sns.boxplot(df_train[index], whis=1.5)\n",
    "plt.xlabel(index)\n",
    "plt.show()\n",
    "\n",
    "print(f'\\nКоличество пропущенных элементов {df_train[index].isnull().sum()}')\n",
    "quantile = df_train.loc[df_train[index].notnull(), index]\n",
    "print(f'Количество уникальных элементов {quantile.value_counts().size}')\n",
    "print(f'median - {np.quantile(quantile, q=0.5):.3f}\\nmean - {np.mean(quantile):.3f}\\nmode - {stats.mode(quantile)[0][0]:.3f}')\n",
    "print(f'квантиль 5% - {np.quantile(quantile, q=0.05):.3f}\\nквантиль 98% - {np.quantile(quantile, q=0.98):.3f}')\n",
    "print(df_train[index].value_counts().sort_index(ascending=True))"
   ]
  },
  {
   "cell_type": "code",
   "execution_count": 45,
   "metadata": {},
   "outputs": [
    {
     "data": {
      "image/png": "[encoded data removed]",
      "text/plain": [
       "<Figure size 576x144 with 1 Axes>"
      ]
     },
     "metadata": {},
     "output_type": "display_data"
    },
    {
     "name": "stdout",
     "output_type": "stream",
     "text": [
      "\n",
      "Количество пропущенных элементов 0\n",
      "Количество уникальных элементов 120\n",
      "median - 0.000\n",
      "mean - 21.954\n",
      "mode - 0.000\n",
      "квантиль 5% - 0.000\n",
      "квантиль 98% - 235.640\n",
      "0      1252\n",
      "19        1\n",
      "20        1\n",
      "24        1\n",
      "30        1\n",
      "       ... \n",
      "301       1\n",
      "318       1\n",
      "330       1\n",
      "386       1\n",
      "552       1\n",
      "Name: EnclosedPorch, Length: 120, dtype: int64\n"
     ]
    }
   ],
   "source": [
    "#EnclosedPorch: Enclosed porch area in square feet\n",
    "index = 'EnclosedPorch'\n",
    "plt.figure(figsize=(8, 2))\n",
    "sns.boxplot(df_train[index], whis=1.5)\n",
    "plt.xlabel(index)\n",
    "plt.show()\n",
    "\n",
    "print(f'\\nКоличество пропущенных элементов {df_train[index].isnull().sum()}')\n",
    "quantile = df_train.loc[df_train[index].notnull(), index]\n",
    "print(f'Количество уникальных элементов {quantile.value_counts().size}')\n",
    "print(f'median - {np.quantile(quantile, q=0.5):.3f}\\nmean - {np.mean(quantile):.3f}\\nmode - {stats.mode(quantile)[0][0]:.3f}')\n",
    "print(f'квантиль 5% - {np.quantile(quantile, q=0.05):.3f}\\nквантиль 98% - {np.quantile(quantile, q=0.98):.3f}')\n",
    "print(df_train[index].value_counts().sort_index(ascending=True))"
   ]
  },
  {
   "cell_type": "code",
   "execution_count": 46,
   "metadata": {},
   "outputs": [
    {
     "data": {
      "image/png": "[encoded data removed]",
      "text/plain": [
       "<Figure size 576x144 with 1 Axes>"
      ]
     },
     "metadata": {},
     "output_type": "display_data"
    },
    {
     "name": "stdout",
     "output_type": "stream",
     "text": [
      "\n",
      "Количество пропущенных элементов 0\n",
      "Количество уникальных элементов 20\n",
      "median - 0.000\n",
      "mean - 3.410\n",
      "mode - 0.000\n",
      "квантиль 5% - 0.000\n",
      "квантиль 98% - 0.000\n",
      "0      1436\n",
      "23        1\n",
      "96        1\n",
      "130       1\n",
      "140       1\n",
      "144       2\n",
      "153       1\n",
      "162       1\n",
      "168       3\n",
      "180       2\n",
      "182       1\n",
      "196       1\n",
      "216       2\n",
      "238       1\n",
      "245       1\n",
      "290       1\n",
      "304       1\n",
      "320       1\n",
      "407       1\n",
      "508       1\n",
      "Name: 3SsnPorch, dtype: int64\n"
     ]
    }
   ],
   "source": [
    "#3SsnPorch: Three season porch area in square feet\n",
    "index = '3SsnPorch'\n",
    "plt.figure(figsize=(8, 2))\n",
    "sns.boxplot(df_train[index], whis=1.5)\n",
    "plt.xlabel(index)\n",
    "plt.show()\n",
    "\n",
    "print(f'\\nКоличество пропущенных элементов {df_train[index].isnull().sum()}')\n",
    "quantile = df_train.loc[df_train[index].notnull(), index]\n",
    "print(f'Количество уникальных элементов {quantile.value_counts().size}')\n",
    "print(f'median - {np.quantile(quantile, q=0.5):.3f}\\nmean - {np.mean(quantile):.3f}\\nmode - {stats.mode(quantile)[0][0]:.3f}')\n",
    "print(f'квантиль 5% - {np.quantile(quantile, q=0.05):.3f}\\nквантиль 98% - {np.quantile(quantile, q=0.98):.3f}')\n",
    "print(df_train[index].value_counts().sort_index(ascending=True))"
   ]
  },
  {
   "cell_type": "code",
   "execution_count": 47,
   "metadata": {},
   "outputs": [
    {
     "data": {
      "image/png": "[encoded data removed]",
      "text/plain": [
       "<Figure size 576x144 with 1 Axes>"
      ]
     },
     "metadata": {},
     "output_type": "display_data"
    },
    {
     "name": "stdout",
     "output_type": "stream",
     "text": [
      "\n",
      "Количество пропущенных элементов 0\n",
      "Количество уникальных элементов 76\n",
      "median - 0.000\n",
      "mean - 15.061\n",
      "mode - 0.000\n",
      "квантиль 5% - 0.000\n",
      "квантиль 98% - 223.640\n",
      "0      1344\n",
      "40        1\n",
      "53        1\n",
      "60        1\n",
      "63        1\n",
      "       ... \n",
      "385       1\n",
      "396       1\n",
      "410       1\n",
      "440       1\n",
      "480       1\n",
      "Name: ScreenPorch, Length: 76, dtype: int64\n"
     ]
    }
   ],
   "source": [
    "#ScreenPorch: Screen porch area in square feet\n",
    "index = 'ScreenPorch'\n",
    "plt.figure(figsize=(8, 2))\n",
    "sns.boxplot(df_train[index], whis=1.5)\n",
    "plt.xlabel(index)\n",
    "plt.show()\n",
    "\n",
    "print(f'\\nКоличество пропущенных элементов {df_train[index].isnull().sum()}')\n",
    "quantile = df_train.loc[df_train[index].notnull(), index]\n",
    "print(f'Количество уникальных элементов {quantile.value_counts().size}')\n",
    "print(f'median - {np.quantile(quantile, q=0.5):.3f}\\nmean - {np.mean(quantile):.3f}\\nmode - {stats.mode(quantile)[0][0]:.3f}')\n",
    "print(f'квантиль 5% - {np.quantile(quantile, q=0.05):.3f}\\nквантиль 98% - {np.quantile(quantile, q=0.98):.3f}')\n",
    "print(df_train[index].value_counts().sort_index(ascending=True))"
   ]
  },
  {
   "cell_type": "code",
   "execution_count": 48,
   "metadata": {},
   "outputs": [
    {
     "data": {
      "image/png": "[encoded data removed]",
      "text/plain": [
       "<Figure size 576x144 with 1 Axes>"
      ]
     },
     "metadata": {},
     "output_type": "display_data"
    },
    {
     "name": "stdout",
     "output_type": "stream",
     "text": [
      "\n",
      "Количество пропущенных элементов 0\n",
      "0      1453\n",
      "480       1\n",
      "512       1\n",
      "519       1\n",
      "555       1\n",
      "576       1\n",
      "648       1\n",
      "738       1\n",
      "Name: PoolArea, dtype: int64\n",
      "\n",
      "Количество уникальных элементов 8\n"
     ]
    }
   ],
   "source": [
    "#PoolArea: Pool area in square feet\n",
    "index = 'PoolArea'\n",
    "counts = df_train[index].value_counts()\n",
    "plt.figure(figsize=(8, 2))\n",
    "sns.barplot(counts.index, counts.values)\n",
    "plt.show()\n",
    "\n",
    "print(f'\\nКоличество пропущенных элементов {df_train[index].isnull().sum()}')\n",
    "print(df_train[index].value_counts())\n",
    "print(f'\\nКоличество уникальных элементов {df_train[index].value_counts().size}')"
   ]
  },
  {
   "cell_type": "code",
   "execution_count": 49,
   "metadata": {},
   "outputs": [
    {
     "data": {
      "image/png": "[encoded data removed]",
      "text/plain": [
       "<Figure size 576x144 with 1 Axes>"
      ]
     },
     "metadata": {},
     "output_type": "display_data"
    },
    {
     "name": "stdout",
     "output_type": "stream",
     "text": [
      "\n",
      "Количество пропущенных элементов 1453\n",
      "Gd    3\n",
      "Fa    2\n",
      "Ex    2\n",
      "Name: PoolQC, dtype: int64\n",
      "\n",
      "Количество уникальных элементов 3\n"
     ]
    }
   ],
   "source": [
    "#PoolQC: Pool quality\n",
    "index = 'PoolQC'\n",
    "counts = df_train[index].value_counts()\n",
    "plt.figure(figsize=(8, 2))\n",
    "sns.barplot(counts.index, counts.values)\n",
    "plt.show()\n",
    "\n",
    "print(f'\\nКоличество пропущенных элементов {df_train[index].isnull().sum()}')\n",
    "print(df_train[index].value_counts())\n",
    "print(f'\\nКоличество уникальных элементов {df_train[index].value_counts().size}')"
   ]
  },
  {
   "cell_type": "code",
   "execution_count": 50,
   "metadata": {},
   "outputs": [
    {
     "data": {
      "image/png": "[encoded data removed]",
      "text/plain": [
       "<Figure size 576x144 with 1 Axes>"
      ]
     },
     "metadata": {},
     "output_type": "display_data"
    },
    {
     "name": "stdout",
     "output_type": "stream",
     "text": [
      "\n",
      "Количество пропущенных элементов 1179\n",
      "MnPrv    157\n",
      "GdPrv     59\n",
      "GdWo      54\n",
      "MnWw      11\n",
      "Name: Fence, dtype: int64\n",
      "\n",
      "Количество уникальных элементов 4\n"
     ]
    }
   ],
   "source": [
    "#Fence: Fence quality\n",
    "index = 'Fence'\n",
    "counts = df_train[index].value_counts()\n",
    "plt.figure(figsize=(8, 2))\n",
    "sns.barplot(counts.index, counts.values)\n",
    "plt.show()\n",
    "\n",
    "print(f'\\nКоличество пропущенных элементов {df_train[index].isnull().sum()}')\n",
    "print(df_train[index].value_counts())\n",
    "print(f'\\nКоличество уникальных элементов {df_train[index].value_counts().size}')"
   ]
  },
  {
   "cell_type": "code",
   "execution_count": 51,
   "metadata": {},
   "outputs": [
    {
     "data": {
      "image/png": "[encoded data removed]",
      "text/plain": [
       "<Figure size 576x144 with 1 Axes>"
      ]
     },
     "metadata": {},
     "output_type": "display_data"
    },
    {
     "name": "stdout",
     "output_type": "stream",
     "text": [
      "\n",
      "Количество пропущенных элементов 1406\n",
      "Shed    49\n",
      "Othr     2\n",
      "Gar2     2\n",
      "TenC     1\n",
      "Name: MiscFeature, dtype: int64\n",
      "\n",
      "Количество уникальных элементов 4\n"
     ]
    }
   ],
   "source": [
    "#MiscFeature: Miscellaneous feature not covered in other categories\n",
    "index = 'MiscFeature'\n",
    "counts = df_train[index].value_counts()\n",
    "plt.figure(figsize=(8, 2))\n",
    "sns.barplot(counts.index, counts.values)\n",
    "plt.show()\n",
    "\n",
    "print(f'\\nКоличество пропущенных элементов {df_train[index].isnull().sum()}')\n",
    "print(df_train[index].value_counts())\n",
    "print(f'\\nКоличество уникальных элементов {df_train[index].value_counts().size}')"
   ]
  },
  {
   "cell_type": "code",
   "execution_count": 52,
   "metadata": {},
   "outputs": [
    {
     "data": {
      "image/png": "[encoded data removed]",
      "text/plain": [
       "<Figure size 576x144 with 1 Axes>"
      ]
     },
     "metadata": {},
     "output_type": "display_data"
    },
    {
     "name": "stdout",
     "output_type": "stream",
     "text": [
      "\n",
      "Количество пропущенных элементов 0\n",
      "Количество уникальных элементов 21\n",
      "median - 0.000\n",
      "mean - 43.489\n",
      "mode - 0.000\n",
      "квантиль 5% - 0.000\n",
      "квантиль 98% - 500.000\n",
      "0        1408\n",
      "54          1\n",
      "350         1\n",
      "400        11\n",
      "450         4\n",
      "480         2\n",
      "500         8\n",
      "560         1\n",
      "600         4\n",
      "620         1\n",
      "700         5\n",
      "800         1\n",
      "1150        1\n",
      "1200        2\n",
      "1300        1\n",
      "1400        1\n",
      "2000        4\n",
      "2500        1\n",
      "3500        1\n",
      "8300        1\n",
      "15500       1\n",
      "Name: MiscVal, dtype: int64\n"
     ]
    }
   ],
   "source": [
    "#MiscVal: $Value of miscellaneous feature\n",
    "index = 'MiscVal'\n",
    "plt.figure(figsize=(8, 2))\n",
    "sns.boxplot(df_train[index], whis=1.5)\n",
    "plt.xlabel(index)\n",
    "plt.show()\n",
    "\n",
    "print(f'\\nКоличество пропущенных элементов {df_train[index].isnull().sum()}')\n",
    "quantile = df_train.loc[df_train[index].notnull(), index]\n",
    "print(f'Количество уникальных элементов {quantile.value_counts().size}')\n",
    "print(f'median - {np.quantile(quantile, q=0.5):.3f}\\nmean - {np.mean(quantile):.3f}\\nmode - {stats.mode(quantile)[0][0]:.3f}')\n",
    "print(f'квантиль 5% - {np.quantile(quantile, q=0.05):.3f}\\nквантиль 98% - {np.quantile(quantile, q=0.98):.3f}')\n",
    "print(df_train[index].value_counts().sort_index(ascending=True))"
   ]
  },
  {
   "cell_type": "code",
   "execution_count": 53,
   "metadata": {},
   "outputs": [
    {
     "data": {
      "image/png": "[encoded data removed]",
      "text/plain": [
       "<Figure size 576x144 with 1 Axes>"
      ]
     },
     "metadata": {},
     "output_type": "display_data"
    },
    {
     "name": "stdout",
     "output_type": "stream",
     "text": [
      "\n",
      "Количество пропущенных элементов 0\n",
      "6     253\n",
      "7     234\n",
      "5     204\n",
      "4     141\n",
      "8     122\n",
      "3     106\n",
      "10     89\n",
      "11     79\n",
      "9      63\n",
      "12     59\n",
      "1      58\n",
      "2      52\n",
      "Name: MoSold, dtype: int64\n",
      "\n",
      "Количество уникальных элементов 12\n"
     ]
    }
   ],
   "source": [
    "#MoSold: Month Sold (MM)\n",
    "index = 'MoSold'\n",
    "counts = df_train[index].value_counts()\n",
    "plt.figure(figsize=(8, 2))\n",
    "sns.barplot(counts.index, counts.values)\n",
    "plt.show()\n",
    "\n",
    "print(f'\\nКоличество пропущенных элементов {df_train[index].isnull().sum()}')\n",
    "print(df_train[index].value_counts())\n",
    "print(f'\\nКоличество уникальных элементов {df_train[index].value_counts().size}')"
   ]
  },
  {
   "cell_type": "code",
   "execution_count": 54,
   "metadata": {},
   "outputs": [
    {
     "data": {
      "image/png": "[encoded data removed]",
      "text/plain": [
       "<Figure size 576x144 with 1 Axes>"
      ]
     },
     "metadata": {},
     "output_type": "display_data"
    },
    {
     "name": "stdout",
     "output_type": "stream",
     "text": [
      "\n",
      "Количество пропущенных элементов 0\n",
      "2009    338\n",
      "2007    329\n",
      "2006    314\n",
      "2008    304\n",
      "2010    175\n",
      "Name: YrSold, dtype: int64\n",
      "\n",
      "Количество уникальных элементов 5\n"
     ]
    }
   ],
   "source": [
    "#YrSold: Year Sold (YYYY)\n",
    "index = 'YrSold'\n",
    "counts = df_train[index].value_counts()\n",
    "plt.figure(figsize=(8, 2))\n",
    "sns.barplot(counts.index, counts.values)\n",
    "plt.show()\n",
    "\n",
    "print(f'\\nКоличество пропущенных элементов {df_train[index].isnull().sum()}')\n",
    "print(df_train[index].value_counts())\n",
    "print(f'\\nКоличество уникальных элементов {df_train[index].value_counts().size}')"
   ]
  },
  {
   "cell_type": "code",
   "execution_count": 55,
   "metadata": {},
   "outputs": [
    {
     "data": {
      "image/png": "[encoded data removed]",
      "text/plain": [
       "<Figure size 576x144 with 1 Axes>"
      ]
     },
     "metadata": {},
     "output_type": "display_data"
    },
    {
     "name": "stdout",
     "output_type": "stream",
     "text": [
      "\n",
      "Количество пропущенных элементов 0\n",
      "WD       1267\n",
      "New       122\n",
      "COD        43\n",
      "ConLD       9\n",
      "ConLI       5\n",
      "ConLw       5\n",
      "CWD         4\n",
      "Oth         3\n",
      "Con         2\n",
      "Name: SaleType, dtype: int64\n",
      "\n",
      "Количество уникальных элементов 9\n"
     ]
    }
   ],
   "source": [
    "#SaleType: Type of sale\n",
    "index = 'SaleType'\n",
    "counts = df_train[index].value_counts()\n",
    "plt.figure(figsize=(8, 2))\n",
    "sns.barplot(counts.index, counts.values)\n",
    "plt.show()\n",
    "\n",
    "print(f'\\nКоличество пропущенных элементов {df_train[index].isnull().sum()}')\n",
    "print(df_train[index].value_counts())\n",
    "print(f'\\nКоличество уникальных элементов {df_train[index].value_counts().size}')"
   ]
  },
  {
   "cell_type": "code",
   "execution_count": 56,
   "metadata": {},
   "outputs": [
    {
     "data": {
      "image/png": "[encoded data removed]",
      "text/plain": [
       "<Figure size 576x144 with 1 Axes>"
      ]
     },
     "metadata": {},
     "output_type": "display_data"
    },
    {
     "name": "stdout",
     "output_type": "stream",
     "text": [
      "\n",
      "Количество пропущенных элементов 0\n",
      "Normal     1198\n",
      "Partial     125\n",
      "Abnorml     101\n",
      "Family       20\n",
      "Alloca       12\n",
      "AdjLand       4\n",
      "Name: SaleCondition, dtype: int64\n",
      "\n",
      "Количество уникальных элементов 6\n"
     ]
    }
   ],
   "source": [
    "#SaleCondition: Condition of sale\n",
    "index = 'SaleCondition'\n",
    "counts = df_train[index].value_counts()\n",
    "plt.figure(figsize=(8, 2))\n",
    "sns.barplot(counts.index, counts.values)\n",
    "plt.show()\n",
    "\n",
    "print(f'\\nКоличество пропущенных элементов {df_train[index].isnull().sum()}')\n",
    "print(df_train[index].value_counts())\n",
    "print(f'\\nКоличество уникальных элементов {df_train[index].value_counts().size}')"
   ]
  }
 ],
 "metadata": {
  "interpreter": {
   "hash": "d30e8fff444892016a8438d88f109d7a5800fe56a6dd2d3bd28b989ffd4d5abe"
  },
  "kernelspec": {
   "display_name": "Python 3.8.10 64-bit",
   "name": "python3"
  },
  "language_info": {
   "codemirror_mode": {
    "name": "ipython",
    "version": 3
   },
   "file_extension": ".py",
   "mimetype": "text/x-python",
   "name": "python",
   "nbconvert_exporter": "python",
   "pygments_lexer": "ipython3",
   "version": "3.8.10"
  },
  "orig_nbformat": 4
 },
 "nbformat": 4,
 "nbformat_minor": 2
}
