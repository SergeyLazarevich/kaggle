{
 "cells": [
  {
   "cell_type": "code",
   "execution_count": 2,
   "metadata": {},
   "outputs": [],
   "source": [
    "import matplotlib\n",
    "import matplotlib.pyplot as plt\n",
    "import seaborn as sns\n",
    "import numpy as np \n",
    "import pandas as pd\n",
    "from scipy import stats\n",
    "from sklearn.preprocessing import RobustScaler, StandardScaler, MinMaxScaler\n",
    "from sklearn.model_selection import train_test_split, cross_val_score,  KFold\n",
    "from imblearn.over_sampling import RandomOverSampler \n",
    "from sklearn.metrics import classification_report\n",
    "import catboost as catb\n",
    "\n",
    "import warnings\n",
    "warnings.filterwarnings('ignore')\n",
    "\n",
    "plt.style.use('fivethirtyeight')\n",
    "matplotlib.rcParams.update({'font.size': 14})\n",
    "TRAIN_PATH = './Data Explorer/train.csv'\n",
    "TEST_PATH = './Data Explorer/test.csv'\n",
    "SUBMIT_PATH = './Data Explorer/gender_submission.csv'"
   ]
  },
  {
   "cell_type": "markdown",
   "metadata": {},
   "source": [
    "## 2. Загрузка данных в Data Frame\n",
    "#### Описание файлов\n",
    "- train.csv - тренировочные данные\n",
    "- test.csv - тестовые данные\n",
    "- gender_submission.csv - образец файла для отправки в правильном формате\n",
    "#### Описание признаков данных\n",
    "- survival: выживший -1 или -0\n",
    "- pclass: Класс билетов 1 = 1st, 2 = 2nd, 3 = 3rd\n",
    "- sex: Пол\n",
    "- Age: Возраст в годах\n",
    "- sibsp: братьев и сестер/супругов на борту \"Титаника\"\n",
    "- parch: родителей/детей на борту \"Титаника\"\n",
    "- ticket: Номер билета\n",
    "- fare: Пассажирский тариф\n",
    "- cabin: Номер каюты\n",
    "- embarked: Порт отправления C = Шербур, Q = Квинстаун, S = Саутгемптон\n"
   ]
  },
  {
   "cell_type": "code",
   "execution_count": 2,
   "metadata": {},
   "outputs": [
    {
     "name": "stdout",
     "output_type": "stream",
     "text": [
      "<class 'pandas.core.frame.DataFrame'>\n",
      "RangeIndex: 891 entries, 0 to 890\n",
      "Data columns (total 12 columns):\n",
      " #   Column       Non-Null Count  Dtype  \n",
      "---  ------       --------------  -----  \n",
      " 0   PassengerId  891 non-null    int64  \n",
      " 1   Survived     891 non-null    int64  \n",
      " 2   Pclass       891 non-null    int64  \n",
      " 3   Name         891 non-null    object \n",
      " 4   Sex          891 non-null    object \n",
      " 5   Age          714 non-null    float64\n",
      " 6   SibSp        891 non-null    int64  \n",
      " 7   Parch        891 non-null    int64  \n",
      " 8   Ticket       891 non-null    object \n",
      " 9   Fare         891 non-null    float64\n",
      " 10  Cabin        204 non-null    object \n",
      " 11  Embarked     889 non-null    object \n",
      "dtypes: float64(2), int64(5), object(5)\n",
      "memory usage: 83.7+ KB\n"
     ]
    }
   ],
   "source": [
    "# Импортируем данные train.csv в pandas Dataframe\n",
    "df_train = pd.read_csv(TRAIN_PATH, sep=',')\n",
    "df_train.info()"
   ]
  },
  {
   "cell_type": "code",
   "execution_count": 3,
   "metadata": {},
   "outputs": [
    {
     "data": {
      "text/html": [
       "<div>\n",
       "<style scoped>\n",
       "    .dataframe tbody tr th:only-of-type {\n",
       "        vertical-align: middle;\n",
       "    }\n",
       "\n",
       "    .dataframe tbody tr th {\n",
       "        vertical-align: top;\n",
       "    }\n",
       "\n",
       "    .dataframe thead th {\n",
       "        text-align: right;\n",
       "    }\n",
       "</style>\n",
       "<table border=\"1\" class=\"dataframe\">\n",
       "  <thead>\n",
       "    <tr style=\"text-align: right;\">\n",
       "      <th></th>\n",
       "      <th>PassengerId</th>\n",
       "      <th>Survived</th>\n",
       "      <th>Pclass</th>\n",
       "      <th>Name</th>\n",
       "      <th>Sex</th>\n",
       "      <th>Age</th>\n",
       "      <th>SibSp</th>\n",
       "      <th>Parch</th>\n",
       "      <th>Ticket</th>\n",
       "      <th>Fare</th>\n",
       "      <th>Cabin</th>\n",
       "      <th>Embarked</th>\n",
       "    </tr>\n",
       "  </thead>\n",
       "  <tbody>\n",
       "    <tr>\n",
       "      <th>0</th>\n",
       "      <td>1</td>\n",
       "      <td>0</td>\n",
       "      <td>3</td>\n",
       "      <td>Braund, Mr. Owen Harris</td>\n",
       "      <td>male</td>\n",
       "      <td>22.0</td>\n",
       "      <td>1</td>\n",
       "      <td>0</td>\n",
       "      <td>A/5 21171</td>\n",
       "      <td>7.2500</td>\n",
       "      <td>NaN</td>\n",
       "      <td>S</td>\n",
       "    </tr>\n",
       "    <tr>\n",
       "      <th>1</th>\n",
       "      <td>2</td>\n",
       "      <td>1</td>\n",
       "      <td>1</td>\n",
       "      <td>Cumings, Mrs. John Bradley (Florence Briggs Th...</td>\n",
       "      <td>female</td>\n",
       "      <td>38.0</td>\n",
       "      <td>1</td>\n",
       "      <td>0</td>\n",
       "      <td>PC 17599</td>\n",
       "      <td>71.2833</td>\n",
       "      <td>C85</td>\n",
       "      <td>C</td>\n",
       "    </tr>\n",
       "    <tr>\n",
       "      <th>2</th>\n",
       "      <td>3</td>\n",
       "      <td>1</td>\n",
       "      <td>3</td>\n",
       "      <td>Heikkinen, Miss. Laina</td>\n",
       "      <td>female</td>\n",
       "      <td>26.0</td>\n",
       "      <td>0</td>\n",
       "      <td>0</td>\n",
       "      <td>STON/O2. 3101282</td>\n",
       "      <td>7.9250</td>\n",
       "      <td>NaN</td>\n",
       "      <td>S</td>\n",
       "    </tr>\n",
       "    <tr>\n",
       "      <th>3</th>\n",
       "      <td>4</td>\n",
       "      <td>1</td>\n",
       "      <td>1</td>\n",
       "      <td>Futrelle, Mrs. Jacques Heath (Lily May Peel)</td>\n",
       "      <td>female</td>\n",
       "      <td>35.0</td>\n",
       "      <td>1</td>\n",
       "      <td>0</td>\n",
       "      <td>113803</td>\n",
       "      <td>53.1000</td>\n",
       "      <td>C123</td>\n",
       "      <td>S</td>\n",
       "    </tr>\n",
       "    <tr>\n",
       "      <th>4</th>\n",
       "      <td>5</td>\n",
       "      <td>0</td>\n",
       "      <td>3</td>\n",
       "      <td>Allen, Mr. William Henry</td>\n",
       "      <td>male</td>\n",
       "      <td>35.0</td>\n",
       "      <td>0</td>\n",
       "      <td>0</td>\n",
       "      <td>373450</td>\n",
       "      <td>8.0500</td>\n",
       "      <td>NaN</td>\n",
       "      <td>S</td>\n",
       "    </tr>\n",
       "  </tbody>\n",
       "</table>\n",
       "</div>"
      ],
      "text/plain": [
       "   PassengerId  Survived  Pclass  \\\n",
       "0            1         0       3   \n",
       "1            2         1       1   \n",
       "2            3         1       3   \n",
       "3            4         1       1   \n",
       "4            5         0       3   \n",
       "\n",
       "                                                Name     Sex   Age  SibSp  \\\n",
       "0                            Braund, Mr. Owen Harris    male  22.0      1   \n",
       "1  Cumings, Mrs. John Bradley (Florence Briggs Th...  female  38.0      1   \n",
       "2                             Heikkinen, Miss. Laina  female  26.0      0   \n",
       "3       Futrelle, Mrs. Jacques Heath (Lily May Peel)  female  35.0      1   \n",
       "4                           Allen, Mr. William Henry    male  35.0      0   \n",
       "\n",
       "   Parch            Ticket     Fare Cabin Embarked  \n",
       "0      0         A/5 21171   7.2500   NaN        S  \n",
       "1      0          PC 17599  71.2833   C85        C  \n",
       "2      0  STON/O2. 3101282   7.9250   NaN        S  \n",
       "3      0            113803  53.1000  C123        S  \n",
       "4      0            373450   8.0500   NaN        S  "
      ]
     },
     "execution_count": 3,
     "metadata": {},
     "output_type": "execute_result"
    }
   ],
   "source": [
    "df_train.head()"
   ]
  },
  {
   "cell_type": "markdown",
   "metadata": {},
   "source": [
    "## Рассмотрим поближе каждую характеристику "
   ]
  },
  {
   "cell_type": "code",
   "execution_count": 4,
   "metadata": {},
   "outputs": [
    {
     "data": {
      "image/png": "[encoded data removed]",
      "text/plain": [
       "<Figure size 576x144 with 1 Axes>"
      ]
     },
     "metadata": {},
     "output_type": "display_data"
    },
    {
     "name": "stdout",
     "output_type": "stream",
     "text": [
      "\n",
      "Количество пропущенных элементов 0\n",
      "3    491\n",
      "1    216\n",
      "2    184\n",
      "Name: Pclass, dtype: int64\n",
      "\n",
      "Количество уникальных элементов 3\n"
     ]
    }
   ],
   "source": [
    "index = 'Pclass'\n",
    "df_train[index] = df_train[index].astype(str)\n",
    "counts = df_train[index].value_counts()\n",
    "plt.figure(figsize=(8, 2))\n",
    "sns.barplot(counts.index, counts.values)\n",
    "plt.show()\n",
    "\n",
    "print(f'\\nКоличество пропущенных элементов {df_train[index].isnull().sum()}')\n",
    "print(df_train[index].value_counts())\n",
    "print(f'\\nКоличество уникальных элементов {df_train[index].value_counts().size}')"
   ]
  },
  {
   "cell_type": "code",
   "execution_count": 5,
   "metadata": {},
   "outputs": [
    {
     "data": {
      "image/png": "[encoded data removed]",
      "text/plain": [
       "<Figure size 576x144 with 1 Axes>"
      ]
     },
     "metadata": {},
     "output_type": "display_data"
    },
    {
     "name": "stdout",
     "output_type": "stream",
     "text": [
      "\n",
      "Количество пропущенных элементов 0\n",
      "male      577\n",
      "female    314\n",
      "Name: Sex, dtype: int64\n",
      "\n",
      "Количество уникальных элементов 2\n"
     ]
    }
   ],
   "source": [
    "index = 'Sex'\n",
    "df_train[index] = df_train[index].astype(str)\n",
    "counts = df_train[index].value_counts()\n",
    "plt.figure(figsize=(8, 2))\n",
    "sns.barplot(counts.index, counts.values)\n",
    "plt.show()\n",
    "\n",
    "print(f'\\nКоличество пропущенных элементов {df_train[index].isnull().sum()}')\n",
    "print(df_train[index].value_counts())\n",
    "print(f'\\nКоличество уникальных элементов {df_train[index].value_counts().size}')"
   ]
  },
  {
   "cell_type": "code",
   "execution_count": 6,
   "metadata": {},
   "outputs": [
    {
     "data": {
      "image/png": "[encoded data removed]",
      "text/plain": [
       "<Figure size 576x144 with 1 Axes>"
      ]
     },
     "metadata": {},
     "output_type": "display_data"
    },
    {
     "name": "stdout",
     "output_type": "stream",
     "text": [
      "\n",
      "Количество пропущенных элементов 177\n",
      "Количество уникальных элементов 88\n",
      "median - 28.000\n",
      "mean - 29.699\n",
      "mode - 24.000\n",
      "квантиль 5% - 4.000\n",
      "квантиль 98% - 62.740\n",
      "0.42     1\n",
      "0.67     1\n",
      "0.75     2\n",
      "0.83     2\n",
      "0.92     1\n",
      "        ..\n",
      "70.00    2\n",
      "70.50    1\n",
      "71.00    2\n",
      "74.00    1\n",
      "80.00    1\n",
      "Name: Age, Length: 88, dtype: int64\n"
     ]
    }
   ],
   "source": [
    "index = 'Age'\n",
    "plt.figure(figsize=(8, 2))\n",
    "sns.boxplot(df_train[index], whis=1.5)\n",
    "plt.xlabel(index)\n",
    "plt.show()\n",
    "\n",
    "print(f'\\nКоличество пропущенных элементов {df_train[index].isnull().sum()}')\n",
    "quantile = df_train.loc[df_train[index].notnull(), index]\n",
    "print(f'Количество уникальных элементов {quantile.value_counts().size}')\n",
    "print(f'median - {np.quantile(quantile, q=0.5):.3f}\\nmean - {np.mean(quantile):.3f}\\nmode - {stats.mode(quantile)[0][0]:.3f}')\n",
    "print(f'квантиль 5% - {np.quantile(quantile, q=0.05):.3f}\\nквантиль 98% - {np.quantile(quantile, q=0.98):.3f}')\n",
    "print(df_train[index].value_counts().sort_index(ascending=True))"
   ]
  },
  {
   "cell_type": "code",
   "execution_count": 7,
   "metadata": {},
   "outputs": [
    {
     "data": {
      "image/png": "[encoded data removed]",
      "text/plain": [
       "<Figure size 576x144 with 1 Axes>"
      ]
     },
     "metadata": {},
     "output_type": "display_data"
    },
    {
     "name": "stdout",
     "output_type": "stream",
     "text": [
      "\n",
      "Количество пропущенных элементов 0\n",
      "Количество уникальных элементов 248\n",
      "median - 14.454\n",
      "mean - 32.204\n",
      "mode - 8.050\n",
      "квантиль 5% - 7.225\n",
      "квантиль 98% - 211.338\n",
      "0.0000      15\n",
      "4.0125       1\n",
      "5.0000       1\n",
      "6.2375       1\n",
      "6.4375       1\n",
      "            ..\n",
      "227.5250     4\n",
      "247.5208     2\n",
      "262.3750     2\n",
      "263.0000     4\n",
      "512.3292     3\n",
      "Name: Fare, Length: 248, dtype: int64\n"
     ]
    }
   ],
   "source": [
    "index = 'Fare'\n",
    "plt.figure(figsize=(8, 2))\n",
    "sns.boxplot(df_train[index], whis=1.5)\n",
    "plt.xlabel(index)\n",
    "plt.show()\n",
    "\n",
    "print(f'\\nКоличество пропущенных элементов {df_train[index].isnull().sum()}')\n",
    "quantile = df_train.loc[df_train[index].notnull(), index]\n",
    "print(f'Количество уникальных элементов {quantile.value_counts().size}')\n",
    "print(f'median - {np.quantile(quantile, q=0.5):.3f}\\nmean - {np.mean(quantile):.3f}\\nmode - {stats.mode(quantile)[0][0]:.3f}')\n",
    "print(f'квантиль 5% - {np.quantile(quantile, q=0.05):.3f}\\nквантиль 98% - {np.quantile(quantile, q=0.98):.3f}')\n",
    "print(df_train[index].value_counts().sort_index(ascending=True))"
   ]
  },
  {
   "cell_type": "code",
   "execution_count": 8,
   "metadata": {},
   "outputs": [
    {
     "data": {
      "image/png": "[encoded data removed]",
      "text/plain": [
       "<Figure size 576x432 with 1 Axes>"
      ]
     },
     "metadata": {},
     "output_type": "display_data"
    }
   ],
   "source": [
    "plt.figure(figsize = (8, 6))\n",
    "sns.distplot(df_train['Fare'])\n",
    "plt.title('Распределение стоимости')\n",
    "plt.show()"
   ]
  },
  {
   "cell_type": "code",
   "execution_count": 9,
   "metadata": {},
   "outputs": [
    {
     "name": "stdout",
     "output_type": "stream",
     "text": [
      "\n",
      "Количество пропущенных элементов 0\n",
      "nan            687\n",
      "C23 C25 C27      4\n",
      "G6               4\n",
      "B96 B98          4\n",
      "C22 C26          3\n",
      "              ... \n",
      "E34              1\n",
      "C7               1\n",
      "C54              1\n",
      "E36              1\n",
      "C148             1\n",
      "Name: Cabin, Length: 148, dtype: int64\n",
      "\n",
      "Количество уникальных элементов 148\n"
     ]
    }
   ],
   "source": [
    "index = 'Cabin'\n",
    "df_train[index] = df_train[index].astype(str)\n",
    "\n",
    "print(f'\\nКоличество пропущенных элементов {df_train[index].isnull().sum()}')\n",
    "print(df_train[index].value_counts())\n",
    "print(f'\\nКоличество уникальных элементов {df_train[index].value_counts().size}')"
   ]
  },
  {
   "cell_type": "code",
   "execution_count": 10,
   "metadata": {},
   "outputs": [
    {
     "data": {
      "image/png": "[encoded data removed]",
      "text/plain": [
       "<Figure size 576x144 with 1 Axes>"
      ]
     },
     "metadata": {},
     "output_type": "display_data"
    },
    {
     "name": "stdout",
     "output_type": "stream",
     "text": [
      "\n",
      "Количество пропущенных элементов 0\n",
      "S      644\n",
      "C      168\n",
      "Q       77\n",
      "nan      2\n",
      "Name: Embarked, dtype: int64\n",
      "\n",
      "Количество уникальных элементов 4\n"
     ]
    }
   ],
   "source": [
    "index = 'Embarked'\n",
    "df_train[index] = df_train[index].astype(str)\n",
    "counts = df_train[index].value_counts()\n",
    "plt.figure(figsize=(8, 2))\n",
    "sns.barplot(counts.index, counts.values)\n",
    "plt.show()\n",
    "\n",
    "print(f'\\nКоличество пропущенных элементов {df_train[index].isnull().sum()}')\n",
    "print(df_train[index].value_counts())\n",
    "print(f'\\nКоличество уникальных элементов {df_train[index].value_counts().size}')"
   ]
  },
  {
   "cell_type": "code",
   "execution_count": 11,
   "metadata": {},
   "outputs": [
    {
     "data": {
      "image/png": "[encoded data removed]",
      "text/plain": [
       "<Figure size 576x144 with 1 Axes>"
      ]
     },
     "metadata": {},
     "output_type": "display_data"
    },
    {
     "name": "stdout",
     "output_type": "stream",
     "text": [
      "\n",
      "Количество пропущенных элементов 0\n",
      "0    549\n",
      "1    342\n",
      "Name: Survived, dtype: int64\n",
      "\n",
      "Количество уникальных элементов 2\n"
     ]
    }
   ],
   "source": [
    "index = 'Survived'\n",
    "df_train[index] = df_train[index].astype(str)\n",
    "counts = df_train[index].value_counts()\n",
    "plt.figure(figsize=(8, 2))\n",
    "sns.barplot(counts.index, counts.values)\n",
    "plt.show()\n",
    "\n",
    "print(f'\\nКоличество пропущенных элементов {df_train[index].isnull().sum()}')\n",
    "print(df_train[index].value_counts())\n",
    "print(f'\\nКоличество уникальных элементов {df_train[index].value_counts().size}')"
   ]
  },
  {
   "cell_type": "markdown",
   "metadata": {},
   "source": [
    "### *Вывод: имеем не большой дисбаланс классов, в последствии будем проводить балансировку методом Oversampling*"
   ]
  },
  {
   "cell_type": "markdown",
   "metadata": {},
   "source": [
    "## Обработка данных"
   ]
  },
  {
   "cell_type": "code",
   "execution_count": 12,
   "metadata": {},
   "outputs": [],
   "source": [
    "def reduce_mem_usage(df):\n",
    "    \"\"\" iterate through all the columns of a dataframe and modify the data type\n",
    "        to reduce memory usage.        \n",
    "    \"\"\"\n",
    "    start_mem = df.memory_usage().sum() / 1024**2\n",
    "    print('Memory usage of dataframe is {:.2f} MB'.format(start_mem))\n",
    "    \n",
    "    for col in df.columns:\n",
    "        col_type = df[col].dtype\n",
    "        \n",
    "        if col_type != object:\n",
    "            c_min = df[col].min()\n",
    "            c_max = df[col].max()\n",
    "            if str(col_type)[:3] == 'int':\n",
    "                if c_min > np.iinfo(np.int8).min and c_max < np.iinfo(np.int8).max:\n",
    "                    df[col] = df[col].astype(np.int8)\n",
    "                elif c_min > np.iinfo(np.int16).min and c_max < np.iinfo(np.int16).max:\n",
    "                    df[col] = df[col].astype(np.int16)\n",
    "                elif c_min > np.iinfo(np.int32).min and c_max < np.iinfo(np.int32).max:\n",
    "                    df[col] = df[col].astype(np.int32)\n",
    "                elif c_min > np.iinfo(np.int64).min and c_max < np.iinfo(np.int64).max:\n",
    "                    df[col] = df[col].astype(np.int64)  \n",
    "            else:\n",
    "                if c_min > np.finfo(np.float32).min and c_max < np.finfo(np.float32).max:\n",
    "                    df[col] = df[col].astype(np.float32)\n",
    "                else:\n",
    "                    df[col] = df[col].astype(np.float64)\n",
    "        else:\n",
    "            df[col] = df[col].astype('category')\n",
    "\n",
    "    end_mem = df.memory_usage().sum() / 1024**2\n",
    "    print('Memory usage after optimization is: {:.2f} MB'.format(end_mem))\n",
    "    print('Decreased by {:.1f}%'.format(100 * (start_mem - end_mem) / start_mem))\n",
    "    \n",
    "    return df"
   ]
  },
  {
   "cell_type": "code",
   "execution_count": 13,
   "metadata": {},
   "outputs": [],
   "source": [
    "def get_classification_report(y_train_true, y_train_pred, y_test_true, y_test_pred):\n",
    "    y_test_true = y_test_true['Survived'].to_numpy()\n",
    "    print('TRAIN\\n\\n' + classification_report(y_train_true, y_train_pred))\n",
    "    print('TEST\\n\\n' + classification_report(y_test_true, y_test_pred))\n",
    "    print('CONFUSION MATRIX\\n')\n",
    "    print(pd.crosstab(y_test_true, y_test_pred))"
   ]
  },
  {
   "cell_type": "code",
   "execution_count": 14,
   "metadata": {},
   "outputs": [],
   "source": [
    "class DataPreprocessing():\n",
    "    def __init__(self):\n",
    "        self.medians = None\n",
    "        self.mode =  None\n",
    "        self.scaler = RobustScaler()\n",
    "\n",
    "    def fit(self, df):\n",
    "        df = df.copy()\n",
    "        #заполняем переменные класса\n",
    "        self.medians = df.median()\n",
    "        self.mode = df[['Pclass', 'Age', 'SibSp', 'Parch', 'Fare']].mode()\n",
    "\n",
    "    def transform(self, df):\n",
    "        df = df.copy()\n",
    "        #используем метод replace() для замены 1 на 3 и 3 на 1 в столбце 'Pclass'\n",
    "        df = df.replace({'Pclass':{1:3, 3:1}})\n",
    "        #используем метод replace() для замены male на 1 и female на 2 в столбце 'Sex'\n",
    "        df = df.replace({'Sex':{'male':1, 'female':2}})\n",
    "        # Округляем значения к целому 'Age'\n",
    "        df['Age'] = np.round_(df['Age'], decimals = 0)\n",
    "        # Исправим пропуски 'Age'(прировняем их к медиане). \n",
    "        df.loc[df['Age'].isnull(), 'Age'] = self.medians[3]\n",
    "        #используем метод replace() для замены в столбце 'SibSp'\n",
    "        df = df.replace({'SibSp':{0:8, 1:7, 2:6, 3:5, 5:3, 6:2, 7:1, 8:0}})\n",
    "        #используем метод replace() для замены в столбце 'Parch'\n",
    "        df = df.replace({'Parch':{0:6, 1:5, 2:4, 4:2, 5:1, 6:0}})\n",
    "        # Округляем значения к целому 'Fare'\n",
    "        df['Fare'] = np.round_(df['Fare'], decimals = 0)\n",
    "        # удаляем лишнее\n",
    "        df.drop(['PassengerId','Name','Ticket', 'Cabin', 'Embarked'], axis=1, inplace=True)\n",
    "        return df\n",
    "    \n",
    "    def fit_scale_merge(self, df):\n",
    "        #Масштабирование\n",
    "        df = pd.DataFrame(self.scaler.fit_transform(df), columns=df.columns)\n",
    "        return df\n",
    "\n",
    "    def scale_merge(self, df):\n",
    "        #Масштабирование\n",
    "        df = pd.DataFrame(self.scaler.transform(df), columns=df.columns)\n",
    "        return df"
   ]
  },
  {
   "cell_type": "code",
   "execution_count": 32,
   "metadata": {},
   "outputs": [],
   "source": [
    "class DataPreprocessing():\n",
    "    def __init__(self):\n",
    "        self.medians = None\n",
    "        self.mode =  None\n",
    "        self.scaler = RobustScaler()\n",
    "\n",
    "    def fit(self, df):\n",
    "        df = df.copy()\n",
    "        #заполняем переменные класса\n",
    "        self.medians = df.median()\n",
    "        self.mode = df[['Pclass', 'Age', 'SibSp', 'Parch', 'Fare']].mode()\n",
    "\n",
    "    def transform(self, df):\n",
    "        df = df.copy()\n",
    "        #используем метод replace() для замены 1 на 3 и 3 на 1 в столбце 'Pclass'\n",
    "        #df = df.replace({'Pclass':{1:3, 3:1}})\n",
    "        df = pd.get_dummies(df, columns=['Pclass'], prefix='Pclass')\n",
    "        #используем метод replace() для замены male на 1 и female на 2 в столбце 'Sex'\n",
    "        #df = df.replace({'Sex':{'male':1, 'female':2}})\n",
    "        df = pd.get_dummies(df, columns=['Sex'], prefix='Sex')\n",
    "        # Округляем значения к целому 'Age'\n",
    "        df['Age'] = np.round_(df['Age'], decimals = 0)\n",
    "        # Исправим пропуски 'Age'(прировняем их к медиане). \n",
    "        df.loc[df['Age'].isnull(), 'Age'] = self.medians[3]\n",
    "        #используем метод replace() для замены в столбце 'SibSp'\n",
    "        #df = df.replace({'SibSp':{0:8, 1:7, 2:6, 3:5, 5:3, 6:2, 7:1, 8:0}})\n",
    "        SibSp_list = {0: 'SibSp_0', 1: 'SibSp_1', 2: 'SibSp_2', 3: 'SibSp_3', 4: 'SibSp_4', 5: 'SibSp_5',\n",
    "                        6: 'SibSp_6', 7: 'SibSp_7', 8: 'SibSp_8'}\n",
    "        index = 'SibSp'\n",
    "        df[list(SibSp_list.values())] = 0\n",
    "        for i in df[index].value_counts().index:\n",
    "            if i in list(SibSp_list.keys()):\n",
    "                df.loc[df[index] == i, SibSp_list[i]] = 1\n",
    "            else:\n",
    "                df.loc[df[index] == i, 'SibSp_8'] = 1\n",
    "        df.drop([index], axis=1, inplace=True)\n",
    "        #используем метод replace() для замены в столбце 'Parch'\n",
    "        #df = df.replace({'Parch':{0:6, 1:5, 2:4, 4:2, 5:1, 6:0}})\n",
    "        Parch_list = {0: 'Parch_0', 1: 'Parch_1', 2: 'Parch_2', 3: 'Parch_3', 4: 'Parch_4', 5: 'Parch_5',\n",
    "                        6: 'Parch_6'}\n",
    "        index = 'Parch'\n",
    "        df[list(Parch_list.values())] = 0\n",
    "        for i in df[index].value_counts().index:\n",
    "            if i in list(Parch_list.keys()):\n",
    "                df.loc[df[index] == i, Parch_list[i]] = 1\n",
    "            else:\n",
    "                df.loc[df[index] == i, 'Parch_6'] = 1\n",
    "        df.drop([index], axis=1, inplace=True)\n",
    "        # Округляем значения к целому 'Fare'\n",
    "        df['Fare'] = np.round_(df['Fare'], decimals = 0)\n",
    "        # удаляем лишнее\n",
    "        df.drop(['PassengerId','Name','Ticket', 'Cabin', 'Embarked'], axis=1, inplace=True)\n",
    "        return df\n",
    "    \n",
    "    def fit_scale_merge(self, df):\n",
    "        #Масштабирование\n",
    "        df = pd.DataFrame(self.scaler.fit_transform(df), columns=df.columns)\n",
    "        return df\n",
    "\n",
    "    def scale_merge(self, df):\n",
    "        #Масштабирование\n",
    "        df = pd.DataFrame(self.scaler.transform(df), columns=df.columns)\n",
    "        return df"
   ]
  },
  {
   "cell_type": "markdown",
   "metadata": {},
   "source": [
    "### *Разбиение на train и test*"
   ]
  },
  {
   "cell_type": "code",
   "execution_count": 50,
   "metadata": {},
   "outputs": [
    {
     "data": {
      "text/plain": [
       "((877, 23), (432, 23), (418, 23), 877, 432, 418)"
      ]
     },
     "execution_count": 50,
     "metadata": {},
     "output_type": "execute_result"
    }
   ],
   "source": [
    "#Все и даже лишнее\n",
    "df_train = pd.read_csv(TRAIN_PATH, sep=',')\n",
    "test_df = pd.read_csv(TEST_PATH, sep=',')\n",
    "sumbit_df = pd.read_csv(SUBMIT_PATH, sep=',')\n",
    "\n",
    "extension_test_df = test_df.copy()\n",
    "extension_test_df['Survived'] = sumbit_df['Survived']\n",
    "df_train = pd.concat([df_train, extension_test_df], ignore_index=True)\n",
    "\n",
    "preprocessor = DataPreprocessing()\n",
    "preprocessor.fit(df_train)\n",
    "\n",
    "df_train = preprocessor.transform(df_train)\n",
    "test = preprocessor.transform(test_df)\n",
    "\n",
    "y = df_train['Survived']\n",
    "X = df_train.drop(columns=['Survived'])\n",
    "\n",
    "X = preprocessor.fit_scale_merge(X)\n",
    "test = preprocessor.scale_merge(test)\n",
    "\n",
    "X_train, X_valid, y_train, y_valid = train_test_split(X, y, test_size=0.33, shuffle=True, random_state=42)\n",
    "X_train.shape, X_valid.shape, test.shape, len(y_train), len(y_valid), len(sumbit_df['Survived'])"
   ]
  },
  {
   "cell_type": "code",
   "execution_count": 36,
   "metadata": {},
   "outputs": [
    {
     "data": {
      "text/plain": [
       "((668, 23), (223, 23), (418, 23), 668, 223, 418)"
      ]
     },
     "execution_count": 36,
     "metadata": {},
     "output_type": "execute_result"
    }
   ],
   "source": [
    "# как надо\n",
    "df_train = pd.read_csv(TRAIN_PATH, sep=',')\n",
    "test_df = pd.read_csv(TEST_PATH, sep=',')\n",
    "sumbit_df = pd.read_csv(SUBMIT_PATH, sep=',')\n",
    "\n",
    "preprocessor = DataPreprocessing()\n",
    "\n",
    "y = df_train['Survived']\n",
    "X = df_train.drop(columns=['Survived'])\n",
    "preprocessor.fit(X)\n",
    "\n",
    "\n",
    "X = preprocessor.transform(X)\n",
    "test = preprocessor.transform(test_df)\n",
    "\n",
    "X = preprocessor.fit_scale_merge(X)\n",
    "test = preprocessor.scale_merge(test)\n",
    "\n",
    "X_train, X_valid, y_train, y_valid = train_test_split(X, y, test_size=0.25, shuffle=True, random_state=42)\n",
    "X_train.shape, X_valid.shape, test.shape, len(y_train), len(y_valid), len(sumbit_df['Survived'])"
   ]
  },
  {
   "cell_type": "code",
   "execution_count": 51,
   "metadata": {},
   "outputs": [
    {
     "name": "stdout",
     "output_type": "stream",
     "text": [
      "Memory usage of dataframe is 0.16 MB\n",
      "Memory usage after optimization is: 0.08 MB\n",
      "Decreased by 47.9%\n",
      "Memory usage of dataframe is 0.08 MB\n",
      "Memory usage after optimization is: 0.04 MB\n",
      "Decreased by 47.9%\n",
      "Memory usage of dataframe is 0.07 MB\n",
      "Memory usage after optimization is: 0.04 MB\n",
      "Decreased by 49.9%\n"
     ]
    }
   ],
   "source": [
    "X_train = reduce_mem_usage(X_train)\n",
    "X_valid = reduce_mem_usage(X_valid)\n",
    "test = reduce_mem_usage(test)"
   ]
  },
  {
   "cell_type": "markdown",
   "metadata": {},
   "source": [
    "### Балансировка целевой переменной"
   ]
  },
  {
   "cell_type": "code",
   "execution_count": 52,
   "metadata": {},
   "outputs": [
    {
     "name": "stdout",
     "output_type": "stream",
     "text": [
      "Train\n",
      " Survived\n",
      "0           546\n",
      "1           331\n",
      "dtype: int64\n",
      "\n",
      "Train\n",
      " Survived\n",
      "0           546\n",
      "1           546\n",
      "dtype: int64\n",
      "\n",
      "Valid\n",
      " Survived\n",
      "0           269\n",
      "1           163\n",
      "dtype: int64\n"
     ]
    }
   ],
   "source": [
    "X_train_columns = X_train.columns.to_list()\n",
    "ros = RandomOverSampler(random_state=42)\n",
    "y_train = pd.DataFrame(y_train)\n",
    "print (\"Train\\n\", y_train.value_counts())\n",
    "X_train, y_train = ros.fit_resample(X_train, y_train)\n",
    "X_train = pd.DataFrame(X_train,columns=X_train_columns)\n",
    "y_train = pd.DataFrame(y_train)\n",
    "print (\"\\nTrain\\n\", y_train.value_counts())\n",
    "y_valid = pd.DataFrame(y_valid)\n",
    "print (\"\\nValid\\n\", y_valid.value_counts())"
   ]
  },
  {
   "cell_type": "markdown",
   "metadata": {},
   "source": [
    "### Выбор лучшей модели и подбор гиперпараметров"
   ]
  },
  {
   "cell_type": "code",
   "execution_count": 59,
   "metadata": {},
   "outputs": [
    {
     "name": "stdout",
     "output_type": "stream",
     "text": [
      "TRAIN\n",
      "\n",
      "              precision    recall  f1-score   support\n",
      "\n",
      "           0       0.93      0.94      0.93       546\n",
      "           1       0.94      0.93      0.93       546\n",
      "\n",
      "    accuracy                           0.93      1092\n",
      "   macro avg       0.93      0.93      0.93      1092\n",
      "weighted avg       0.93      0.93      0.93      1092\n",
      "\n",
      "TEST\n",
      "\n",
      "              precision    recall  f1-score   support\n",
      "\n",
      "           0       0.89      0.87      0.88       269\n",
      "           1       0.80      0.83      0.81       163\n",
      "\n",
      "    accuracy                           0.86       432\n",
      "   macro avg       0.85      0.85      0.85       432\n",
      "weighted avg       0.86      0.86      0.86       432\n",
      "\n",
      "CONFUSION MATRIX\n",
      "\n",
      "col_0    0    1\n",
      "row_0          \n",
      "0      235   34\n",
      "1       28  135\n"
     ]
    }
   ],
   "source": [
    "model = catb.CatBoostClassifier(silent=True, random_state=42,n_estimators=2000, max_depth=3, l2_leaf_reg=5)\n",
    "model.fit(X_train, y_train)\n",
    "y_train_pred = model.predict(X_train)\n",
    "y_valid_pred = model.predict(X_valid)\n",
    "get_classification_report(y_train, y_train_pred, y_valid, y_valid_pred)"
   ]
  },
  {
   "cell_type": "markdown",
   "metadata": {},
   "source": [
    "### Важность признаков"
   ]
  },
  {
   "cell_type": "code",
   "execution_count": 21,
   "metadata": {},
   "outputs": [],
   "source": [
    "def show_feature_importances(feature_names, feature_importances, get_top=None):\n",
    "    feature_importances = pd.DataFrame({'feature': feature_names, 'importance': feature_importances})\n",
    "    feature_importances = feature_importances.sort_values('importance', ascending=False)\n",
    "       \n",
    "    plt.figure(figsize = (20, len(feature_importances) * 0.355))\n",
    "    \n",
    "    sns.barplot(feature_importances['importance'], feature_importances['feature'])\n",
    "    \n",
    "    plt.xlabel('Importance')\n",
    "    plt.title('Importance of features')\n",
    "    plt.show()\n",
    "    \n",
    "    if get_top is not None:\n",
    "        return feature_importances['feature'][:get_top].tolist()"
   ]
  },
  {
   "cell_type": "code",
   "execution_count": 60,
   "metadata": {},
   "outputs": [
    {
     "data": {
      "image/png": "[encoded data removed]",
      "text/plain": [
       "<Figure size 1440x587.88 with 1 Axes>"
      ]
     },
     "metadata": {},
     "output_type": "display_data"
    }
   ],
   "source": [
    "important_features_top = show_feature_importances(X_train.columns, model.feature_importances_, get_top=25)"
   ]
  },
  {
   "cell_type": "markdown",
   "metadata": {},
   "source": [
    "### Кросс-валидация на всём объёме данных"
   ]
  },
  {
   "cell_type": "code",
   "execution_count": 55,
   "metadata": {},
   "outputs": [
    {
     "data": {
      "text/plain": [
       "((1524, 23), (1524, 1))"
      ]
     },
     "execution_count": 55,
     "metadata": {},
     "output_type": "execute_result"
    }
   ],
   "source": [
    "Xx = X_train.copy()\n",
    "Xx = Xx.append(X_valid, ignore_index=False)\n",
    "Yy = y_train.copy()\n",
    "Yy = Yy.append(y_valid, ignore_index=False) \n",
    "Xx.shape, Yy.shape"
   ]
  },
  {
   "cell_type": "code",
   "execution_count": 56,
   "metadata": {},
   "outputs": [
    {
     "name": "stdout",
     "output_type": "stream",
     "text": [
      "[0.83277969 0.88750759 0.86388227 0.87697457 0.83932347]\n"
     ]
    }
   ],
   "source": [
    "cv=KFold(n_splits=5, random_state=42, shuffle=True)\n",
    "cv_score = cross_val_score(model, Xx, Yy, scoring='f1_macro', cv=cv)\n",
    "print(cv_score)"
   ]
  },
  {
   "cell_type": "markdown",
   "metadata": {},
   "source": [
    "### Финальная модель"
   ]
  },
  {
   "cell_type": "code",
   "execution_count": 57,
   "metadata": {},
   "outputs": [],
   "source": [
    "y_test_pred = model.predict(test)"
   ]
  },
  {
   "cell_type": "markdown",
   "metadata": {},
   "source": [
    "### Сохранение результата"
   ]
  },
  {
   "cell_type": "code",
   "execution_count": 58,
   "metadata": {},
   "outputs": [],
   "source": [
    "sumbit_df['Survived'] = y_test_pred\n",
    "sumbit_df.to_csv('SergeyLazarevich_predictions.csv', index=False)"
   ]
  }
 ],
 "metadata": {
  "interpreter": {
   "hash": "d30e8fff444892016a8438d88f109d7a5800fe56a6dd2d3bd28b989ffd4d5abe"
  },
  "kernelspec": {
   "display_name": "Python 3.8.10 64-bit",
   "name": "python3"
  },
  "language_info": {
   "codemirror_mode": {
    "name": "ipython",
    "version": 3
   },
   "file_extension": ".py",
   "mimetype": "text/x-python",
   "name": "python",
   "nbconvert_exporter": "python",
   "pygments_lexer": "ipython3",
   "version": "3.8.10"
  },
  "orig_nbformat": 4
 },
 "nbformat": 4,
 "nbformat_minor": 2
}
